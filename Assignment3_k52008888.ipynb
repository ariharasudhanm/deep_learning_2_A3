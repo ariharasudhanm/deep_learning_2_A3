{
 "cells": [
  {
   "cell_type": "raw",
   "metadata": {
    "pycharm": {
     "name": "#%% raw\n"
    }
   },
   "source": [
    "\n",
    "This material, no matter whether in printed or electronic form,\n",
    "may be used for personal and non-commercial educational use only.\n",
    "Any reproduction of this manuscript,\n",
    "no matter whether as a whole or in parts,\n",
    "no matter whether in printed or in electronic form,\n",
    "requires explicit prior acceptance of the authors.\n"
   ]
  },
  {
   "cell_type": "markdown",
   "metadata": {},
   "source": [
    "<!-- Assignment 3 - SS 2023 -->\n",
    "\n",
    "# From Reversing Convolutions to VAEs (14 points)"
   ]
  },
  {
   "cell_type": "markdown",
   "metadata": {},
   "source": [
    "This notebook contains one of the assignments for the exercises in Deep Learning and Neural Nets 2.\n",
    "It provides a skeleton, i.e. code with gaps, that will be filled out by you in different exercises.\n",
    "All exercise descriptions are visually annotated by a vertical bar on the left and some extra indentation,\n",
    "unless you already messed with your jupyter notebook configuration.\n",
    "Any questions that are not part of the exercise statement do not need to be answered,\n",
    "but should rather be interpreted as triggers to guide your thought process.\n",
    "\n",
    "**Note**: The cells in the introductory part (before the first subtitle)\n",
    "perform all necessary imports and provide utility functions that should work without (too much) problems.\n",
    "Please, do not alter this code or add extra import statements in your submission, unless explicitly allowed!\n",
    "\n",
    "<span style=\"color:#d95c4c\">**IMPORTANT:**</span> Please, change the name of your submission file so that it contains your student ID!"
   ]
  },
  {
   "cell_type": "markdown",
   "metadata": {},
   "source": [
    "In this assignment, we will tackle the topic of auto-encoders,\n",
    "a simple trick to use neural networks for unsupervised learning.\n",
    "Whereas auto-encoders with fully connected layers are pretty simple,\n",
    "new types of layers are necessary to build convolutional auto-encoders.\n",
    "The most important of these new layers is the transposed convolution,\n",
    "which is often confusingly referred to as a deconvolution.\n",
    "Finally, we turn auto-encoders into generative models with some clever tricks."
   ]
  },
  {
   "cell_type": "code",
   "execution_count": 1,
   "metadata": {
    "pycharm": {
     "name": "#%%\n"
    }
   },
   "outputs": [
    {
     "name": "stdout",
     "output_type": "stream",
     "text": [
      "cuda\n"
     ]
    }
   ],
   "source": [
    "import os.path\n",
    "import inspect\n",
    "import torch\n",
    "from torch import nn\n",
    "from torch import optim\n",
    "from torch.utils.data import DataLoader\n",
    "from torchvision import transforms\n",
    "from torchvision import datasets\n",
    "from torchvision import models\n",
    "\n",
    "from PIL import Image\n",
    "from IPython.display import display\n",
    "from torchvision.transforms.functional import to_pil_image\n",
    "\n",
    "torch.manual_seed(1806)\n",
    "torch.cuda.manual_seed(1806)\n",
    "device = 'cuda' if torch.cuda.is_available() else 'cpu'\n",
    "print(device)"
   ]
  },
  {
   "cell_type": "code",
   "execution_count": 2,
   "metadata": {
    "pycharm": {
     "name": "#%%\n"
    }
   },
   "outputs": [
    {
     "name": "stdout",
     "output_type": "stream",
     "text": [
      "~/.pytorch\n"
     ]
    }
   ],
   "source": [
    "# google colab data management\n",
    "import os.path\n",
    "\n",
    "try:\n",
    "    from google.colab import drive\n",
    "    drive.mount('/content/gdrive')\n",
    "    _home = 'gdrive/MyDrive/'\n",
    "except ImportError:\n",
    "    _home = '~'\n",
    "finally:\n",
    "    data_root = os.path.join(_home, '.pytorch')\n",
    "\n",
    "print(data_root)"
   ]
  },
  {
   "cell_type": "code",
   "execution_count": 3,
   "metadata": {
    "pycharm": {
     "name": "#%%\n"
    }
   },
   "outputs": [],
   "source": [
    "class AutoMNIST(datasets.MNIST):\n",
    "    \"\"\" Wrapper around MNIST for training auto-encoders. \"\"\"\n",
    "    \n",
    "    def __getitem__(self, index):\n",
    "        x = self.data[index].numpy()\n",
    "        img = Image.fromarray(x, mode='L')\n",
    "        target = Image.fromarray(x, mode='L')\n",
    "\n",
    "        if self.transform is not None:\n",
    "            img = self.transform(img)\n",
    "\n",
    "        if self.target_transform is not None:\n",
    "            target = self.target_transform(target)\n",
    "\n",
    "        return img, target\n",
    "\n",
    "    @property\n",
    "    def raw_folder(self):\n",
    "        return os.path.join(self.root, 'MNIST', 'raw')\n",
    "\n",
    "    @property\n",
    "    def processed_folder(self):\n",
    "        return os.path.join(self.root, 'MNIST', 'processed')"
   ]
  },
  {
   "cell_type": "code",
   "execution_count": 4,
   "metadata": {
    "pycharm": {
     "name": "#%%\n"
    },
    "tags": []
   },
   "outputs": [],
   "source": [
    "def download_image_data(url: str, md5: str = None, size: int = 224):\n",
    "    \"\"\"\n",
    "    Download and pre-process some image for AlexNet.\n",
    "    \n",
    "    Parameters\n",
    "    ----------\n",
    "    url : str\n",
    "        URL to the image.\n",
    "    md5 : str, optional\n",
    "        MD5 checksum of the image.\n",
    "    size : int, optional\n",
    "        Expected size for the image after cropping.\n",
    "\n",
    "    Returns\n",
    "    -------\n",
    "    x : (1, 3, size, size) torch.Tensor\n",
    "        Ready-to-predict image.\n",
    "    \"\"\"\n",
    "    from torchvision.datasets.utils import download_url\n",
    "    path = os.path.expanduser(data_root)\n",
    "    download_url(url, path, md5=md5)\n",
    "    file_name = url.rsplit('/', maxsplit=1)[-1]\n",
    "    im = Image.open(os.path.join(path, file_name))\n",
    "    # constants taken from torchvision.models docs\n",
    "    normalise = transforms.Compose([\n",
    "        transforms.RandomCrop(size=size),\n",
    "        transforms.ToTensor(),\n",
    "        transforms.Normalize((.485, .456, .406), (.229, .224, .225))\n",
    "    ])\n",
    "    return normalise(im).unsqueeze(0)"
   ]
  },
  {
   "cell_type": "code",
   "execution_count": 5,
   "metadata": {
    "pycharm": {
     "name": "#%%\n"
    }
   },
   "outputs": [],
   "source": [
    "def data_to_image(*data: torch.Tensor, \n",
    "                  means: tuple = (0, ), stds: tuple = (1., )) -> Image:\n",
    "    \"\"\"\n",
    "    Convert multiple tensors to one big image.\n",
    "    \n",
    "    Parameters\n",
    "    ----------\n",
    "    data0, data1, ... dataN : torch.Tensor\n",
    "        One or more tensors to be merged into a single image.\n",
    "    means : tuple or torch.Tensor, optional\n",
    "        Original mean of the image before normalisation.\n",
    "    stds : tuple or torch.Tensor, optional\n",
    "        Original standard deviation of the image before normalisation.\n",
    "\n",
    "    Returns\n",
    "    -------\n",
    "    image : Image\n",
    "        PIL image with all of the tensors next to each other.\n",
    "    \"\"\"\n",
    "    # concatenate all data\n",
    "    big_pic = torch.cat([x for x in data], dim=-1)\n",
    "    \n",
    "    means = torch.tensor(means)\n",
    "    stds = torch.tensor(stds)\n",
    "    to_image = transforms.Compose([\n",
    "        # inverts normalisation of image\n",
    "        transforms.Normalize(-means / stds, 1. / stds),\n",
    "        transforms.Lambda(lambda x: torch.clamp(x, 0, 1)),\n",
    "        transforms.ToPILImage()\n",
    "    ])\n",
    "    \n",
    "    return to_image(big_pic)"
   ]
  },
  {
   "cell_type": "code",
   "execution_count": 6,
   "metadata": {},
   "outputs": [],
   "source": [
    "class RegularisedLoss(nn.Module):\n",
    "    \"\"\"\n",
    "    Loss function for networks that expose state for regularisation.\n",
    "\n",
    "    Examples\n",
    "    --------\n",
    "    To train an auto-encoder with some norm-regularisation (untested):\n",
    "    >>> ae = AutoEncoder(784)\n",
    "    >>> mse = RegularisedLoss(nn.MSELoss(), torch.norm)\n",
    "    >>> x = torch.randn(1, 784)\n",
    "    >>> logits, code = ae.forward(x)\n",
    "    >>> mse((logits, code), x)\n",
    "    \"\"\"\n",
    "    \n",
    "    def __init__(self, loss_func: nn.Module = None, reg_func: nn.Module = None,\n",
    "                 weight: float = 1.):\n",
    "        \"\"\"\n",
    "        Parameters\n",
    "        ----------\n",
    "        loss_func : nn.Module\n",
    "            Standard loss function computed from logits and targets.\n",
    "        reg_func : nn.Module, optional\n",
    "            Regularisation function computed from exposed network state.\n",
    "        weight : float, optional\n",
    "            Weighting factor for the regularisation.\n",
    "        \"\"\"\n",
    "        super().__init__()\n",
    "        self.loss_func = loss_func\n",
    "        self.regulariser = reg_func\n",
    "        self.weight = weight\n",
    "        self._regularisation_cache = []\n",
    "        \n",
    "    def split_loss(self, total_loss):\n",
    "        \"\"\"\n",
    "        Split total loss values in original loss and regularisation part.\n",
    "\n",
    "        Parameters\n",
    "        ----------\n",
    "        total_loss : list or float\n",
    "            One or more loss values computed with this function.\n",
    "\n",
    "        Returns\n",
    "        -------\n",
    "        orig_loss : Tensor\n",
    "            One ore more loss values from the original part of the loss.\n",
    "        reg_loss : Tensor\n",
    "            One or more loss values from the regularsiation part of the loss.\n",
    "        \"\"\"\n",
    "        if len(self._regularisation_cache) == 0:\n",
    "            raise ValueError(\"no regularisation loss yet, make sure to call forward first\")\n",
    "            \n",
    "        _totals = torch.tensor(total_loss)\n",
    "        reg_loss = torch.tensor(self._regularisation_cache[-_totals.numel():])\n",
    "        orig_loss = _totals - self.weight * reg_loss\n",
    "        return orig_loss, reg_loss\n",
    "        \n",
    "    def forward(self, outputs, y):\n",
    "        \"\"\"\n",
    "        Parameters\n",
    "        ----------\n",
    "        outputs : (Tensor, Tensor)\n",
    "            Tuple consisting of logits and exposed state.\n",
    "        y : Tensor\n",
    "            Targets for the original loss part.\n",
    "        \"\"\"\n",
    "        logits, state = outputs\n",
    "        loss = self.loss_func(logits, y)\n",
    "        \n",
    "        if self.regulariser is not None:\n",
    "            reg_loss = self.regulariser(state)\n",
    "            self._regularisation_cache.append(reg_loss.item())\n",
    "            loss = loss + self.weight * reg_loss\n",
    "        \n",
    "        return loss"
   ]
  },
  {
   "cell_type": "code",
   "execution_count": 7,
   "metadata": {
    "pycharm": {
     "name": "#%%\n"
    }
   },
   "outputs": [],
   "source": [
    "class AutoEncoderTrainer:\n",
    "\n",
    "    def __init__(self,\n",
    "         model: nn.Module,\n",
    "         criterion: nn.Module,\n",
    "         optimiser: optim.Optimizer,\n",
    "    ):\n",
    "        \"\"\"\n",
    "        Parameters\n",
    "        ----------\n",
    "        model : torch.nn.Module\n",
    "            Neural Network that will be trained.\n",
    "        criterion : torch.nn.Module\n",
    "            Loss function to use for training.\n",
    "        optimiser : torch.optim.Optimizer\n",
    "            Optimisation strategy for training.\n",
    "        tracker : Tracker, optional\n",
    "            Tracker to keep track of training progress.\n",
    "        \"\"\"\n",
    "        self.model = model\n",
    "        self.criterion = criterion\n",
    "        self.optimiser = optimiser\n",
    "        \n",
    "\n",
    "    def state_dict(self):\n",
    "        \"\"\" Current state of learning. \"\"\"\n",
    "        return {\n",
    "            \"model\": self.model.state_dict(),\n",
    "            \"objective\": self.criterion.state_dict(),\n",
    "            \"optimiser\": self.optimiser.state_dict(),\n",
    "        }\n",
    "\n",
    "    @property\n",
    "    def device(self):\n",
    "        \"\"\" Device of the (first) model parameters. \"\"\"\n",
    "        return next(self.model.parameters()).device\n",
    "\n",
    "    def _forward(self, data: DataLoader, metric: callable):\n",
    "        device = self.device\n",
    "\n",
    "        for x, y in data:\n",
    "            x, y = x.to(device), y.to(device)\n",
    "            logits = self.model(x)\n",
    "            # print(logits.size()) \n",
    "            res = metric(logits, y)\n",
    "            yield res\n",
    "\n",
    "\n",
    "    @torch.no_grad()\n",
    "    def evaluate(self, data: DataLoader, metric: callable) -> list:\n",
    "        self.model.eval()\n",
    "        losses = [res.item() for res in self._forward(data, metric)]\n",
    "        # print(len(losses))\n",
    "        return losses\n",
    "\n",
    "\n",
    "    @torch.enable_grad()\n",
    "    def update(self, data: DataLoader) -> list:\n",
    "        opt = self.optimiser\n",
    "        self.model.train()\n",
    "\n",
    "        errs = []\n",
    "        for err in self._forward(data, self.criterion):\n",
    "            errs.append(err.item())\n",
    "\n",
    "            opt.zero_grad()\n",
    "            err.backward()\n",
    "            opt.step()\n",
    "\n",
    "        return errs\n",
    "    \n",
    "    def _print_errs(self, epoch: int, errs : list):\n",
    "        \"\"\"\n",
    "        Print error summary for current epoch.\n",
    "\n",
    "        If possible, the loss is additionally decomposed in\n",
    "        reconstruction and regularisation loss.\n",
    "\n",
    "        Parameters\n",
    "        ----------\n",
    "        epoch : int\n",
    "            Rank of the current epoch.\n",
    "        errs : list\n",
    "            The errors to summarise.\n",
    "        \"\"\"\n",
    "        print(f\"Epoch {epoch: 2d} - avg loss: {sum(errs) / len(errs):.6f}\", end=' ')\n",
    "        try:\n",
    "            rec_errs, reg_errs = self.criterion.split_loss(errs)\n",
    "            print(f\"(rec: {sum(rec_errs) / len(errs):.4f}, reg: {sum(reg_errs) / len(errs):.4f})\")\n",
    "        except (AttributeError, ValueError):\n",
    "            print()\n",
    "\n",
    "\n",
    "    def _display_result(self, xs: torch.Tensor, count: int = 10):\n",
    "        \"\"\"\n",
    "        Visualise a number of reconstructions from an auto-encoder.\n",
    "\n",
    "        Parameters\n",
    "        ----------\n",
    "        xs : torch.Tensor\n",
    "            Batch of images to be reconstructed.\n",
    "            The batch is assumed to have the correct shape\n",
    "            for feeding it to the network.\n",
    "        count : int, optional\n",
    "            Number of samples in the batch to visualise.\n",
    "\n",
    "        \"\"\"\n",
    "        xs = xs[:count]\n",
    "        # get reconstructions\n",
    "        preds = self.model.reconstruct(xs.to(self.device)).cpu()\n",
    "\n",
    "        # convert to images\n",
    "        xs = xs.view(-1, 1, 28, 28)  # unflatten\n",
    "        x_im = data_to_image(*xs, means=(.1307, ), stds=(.3081, ))\n",
    "        preds = preds.view(-1, 1, 28, 28)\n",
    "        res_im = data_to_image(*preds)\n",
    "\n",
    "        # paste together\n",
    "        im = Image.new('L', (len(xs) * 28, 56))\n",
    "        im.paste(x_im, (0, 0))\n",
    "        im.paste(res_im, (0, 28))\n",
    "        display(im, metadata={'width': '100%'})\n",
    "\n",
    "\n",
    "    def train(self, loader: DataLoader, num_epochs: int = 10, vis_every: int = 5):\n",
    "        \"\"\"\n",
    "        Train an auto-encoder for a number of epochs.\n",
    "\n",
    "        Parameters\n",
    "        ----------\n",
    "        loader : DataLoader\n",
    "            A data loader for iterating over batches of the data.\n",
    "        num_epochs : int, optional\n",
    "            Number of times to iterate the dataset.\n",
    "        vis_every : int, optional\n",
    "            Frequency, during training, of \n",
    "            intermediate visualisation of reconstructions.\n",
    "        \"\"\"\n",
    "        # take random batch for visualising reconstructions\n",
    "        ref_inputs, _ = next(iter(loader))\n",
    "\n",
    "        # evaluate random performance\n",
    "        errs = self.evaluate(loader, self.criterion)\n",
    "        self._print_errs(0, errs)\n",
    "        self._display_result(ref_inputs)\n",
    "\n",
    "        # train for some epochs\n",
    "        for epoch in range(1, num_epochs + 1):\n",
    "            errs = self.update(loader)\n",
    "            self._print_errs(0, errs)\n",
    "\n",
    "            if epoch % vis_every == 0:\n",
    "                self._display_result(ref_inputs)"
   ]
  },
  {
   "cell_type": "markdown",
   "metadata": {
    "pycharm": {
     "name": "#%% md\n"
    },
    "tags": []
   },
   "source": [
    "## Auto-Encoders\n",
    "\n",
    "An easy way to use supervised models in an unsupervised setting \n",
    "is to invent a prediction task that only requires the inputs.\n",
    "The most straightforward approach to this paradigm is to learn the identity function.\n",
    "It is trivial to find a network that solves this task perfectly (linear regression).\n",
    "In order to get more interesting models,\n",
    "it is therefore important to make it slightly harder for the network to learn the identity.\n",
    "\n",
    "The auto-encoder is a neural network architecture for learning these identity functions.\n",
    "In general, auto-encoders consist of two parts:\n",
    "the first part is the **encoder**, which maps the inputs to some *code*\n",
    "and the second part is the **decoder**, which maps this code back to the inputs.\n",
    "This setup is especially interesting when the code is much smaller than the input.\n",
    "In this case, the code forms a bottleneck for the information flow,\n",
    "and the network must learn to compress the information in the inputs to get good reconstructions.\n",
    "This effectively allows to learn a lossy compression scheme where\n",
    "the encoder can be used to compress the inputs and the decoder is used for decompression.\n",
    "\n",
    "Typically, encoder and decoder will have some sort of symmetry in their architecture.\n",
    "In fully-connected models, this symmetry can be obtained by transposing the weight matrices.\n",
    "Convolutional layers can be transposed as well, although that might not be as obvious.\n",
    "Note that we are only talking about the architecture, i.e. the shape of the weight matrices,\n",
    "and not about the weights, which are typically **not shared** between encoder and decoder. "
   ]
  },
  {
   "cell_type": "markdown",
   "metadata": {
    "pycharm": {
     "name": "#%% md\n"
    }
   },
   "source": [
    "<div style=\"text-align: center\">\n",
    "  <figure style=\"display: inline-block; width: 49%; margin: 0\">\n",
    "    <img src=\"https://raw.githubusercontent.com/vdumoulin/conv_arithmetic/master/gif/no_padding_no_strides.gif\" />\n",
    "    <figcaption style=\"width: 100%;\"> Normal convolution </figcaption>\n",
    "  </figure>\n",
    "  <figure style=\"display: inline-block; width: 49%; margin: 0\">\n",
    "    <img src=\"https://raw.githubusercontent.com/vdumoulin/conv_arithmetic/master/gif/no_padding_no_strides_transposed.gif\" />\n",
    "    <figcaption style=\"width: 100%; text-align: center;\"> Transposed convolution </figcaption>\n",
    "  </figure>\n",
    "</div>\n",
    "\n",
    "*visualisations taken from the [github](https://github.com/vdumoulin/conv_arithmetic) that comes with [this guide](https://arxiv.org/abs/1603.07285)*"
   ]
  },
  {
   "cell_type": "markdown",
   "metadata": {
    "pycharm": {
     "name": "#%% md\n"
    },
    "tags": []
   },
   "source": [
    "### Exercise 1: Transposed Convolutions (3 points)\n",
    "\n",
    "Although the transpose of a matrix is typically not its inverse,\n",
    "it can be interpreted as a way to *undo* a matrix multiplication.\n",
    "This is especially true for fully connected layers,\n",
    "where we find the tranpose of the weight matrix in the backward pass.\n",
    "Using this analogy, we can find a transposed convolution\n",
    "by taking the operation we find in the backward pass of a conv layer.\n",
    "\n",
    "To get a feeling for how transposed convolutions can *undo* convolutions,\n",
    "we are going to be implementing a method from Zeiler and Fergus (from ZF net).\n",
    "They used transposed convolutions to visualise activations in the input space.\n",
    "However, we will also need to undo max-pooling layers and ReLU non-linearities.\n",
    "Therefore, we first focus on how to undo different kinds of layers.\n",
    "An example of how to undo a ReLU non-linearity is provided in `UndoableReLU`.\n",
    "\n",
    " > Implement the `undo` methods of the `UndoableMaxPool2d` and `UndoableConv2d` classes below.\n",
    " > As the title suggests, convolutions can be undone by transposed convolutions.\n",
    " > Pooling operations can generally be undone by upsampling operations.\n",
    " > However, for max-pooling, we can get better results\n",
    " > if we keep track of the indices in the original inputs.\n",
    " > Do not forget about the different parameters!"
   ]
  },
  {
   "cell_type": "code",
   "execution_count": 8,
   "metadata": {
    "deletable": false,
    "editable": false,
    "nbgrader": {
     "cell_type": "code",
     "checksum": "cfaf2c9aaa77b57fc6198f3ebbb2f15a",
     "grade": false,
     "grade_id": "cell-628cae5c125d2303",
     "locked": true,
     "schema_version": 3,
     "solution": false,
     "task": false
    },
    "tags": []
   },
   "outputs": [],
   "source": [
    "class UndoableReLU(nn.Module):\n",
    "    \"\"\"\n",
    "    Wrapper around a relu layer that adds 'undo' functionality.\n",
    "    \"\"\"\n",
    "    \n",
    "    def __init__(self, module: nn.ReLU):\n",
    "        super().__init__()\n",
    "        self.original = module\n",
    "        \n",
    "    def forward(self, s: torch.Tensor):\n",
    "        return torch.relu(s), None\n",
    "    \n",
    "    @torch.no_grad()\n",
    "    def undo(self, a: torch.Tensor, context):\n",
    "        return torch.relu(a)"
   ]
  },
  {
   "cell_type": "code",
   "execution_count": 9,
   "metadata": {
    "deletable": false,
    "nbgrader": {
     "cell_type": "code",
     "checksum": "d0fbca9652f4f6b14229a224b1e759af",
     "grade": false,
     "grade_id": "cell-1fb1254336e8ab34",
     "locked": false,
     "schema_version": 3,
     "solution": true,
     "task": false
    },
    "tags": []
   },
   "outputs": [],
   "source": [
    "class UndoableMaxPool2d(nn.Module):\n",
    "    \"\"\"\n",
    "    Wrapper around a max-pooling layer that adds 'undo' functionality.\n",
    "    \"\"\"\n",
    "    \n",
    "    def __init__(self, module: nn.MaxPool2d):\n",
    "        super().__init__()\n",
    "        self.original = module\n",
    "        \n",
    "    @property\n",
    "    def kwargs(self):\n",
    "        return {\n",
    "            k: getattr(self.original, k) \n",
    "            for k in (\"kernel_size\", \"stride\", \"padding\")\n",
    "        }\n",
    "        \n",
    "    def forward(self, x: torch.Tensor):\n",
    "        # NOTE: the code below is equivalent to\n",
    "        # out, indices = nn.functional.max_pool2d(\n",
    "        #     x, return_indices=True,\n",
    "        #     kernel_size=self.original.kernel_size,\n",
    "        #     stride=self.original.stride,\n",
    "        #     padding=self.original.padding,\n",
    "        # )\n",
    "        out, indices = nn.functional.max_pool2d(\n",
    "            x, return_indices=True, **self.kwargs\n",
    "        )\n",
    "        return out, (indices, x.shape[-2:])\n",
    "\n",
    "\n",
    "    @torch.no_grad()\n",
    "    def undo(self, y: torch.Tensor, context):\n",
    "        \"\"\"\n",
    "        Undo the operation from the forward pass.\n",
    "        \n",
    "        Parameters\n",
    "        ----------\n",
    "        y : torch.Tensor\n",
    "            Data with same shape as the output of the original module.\n",
    "        context\n",
    "            Additional information to correctly undo the forward operation.\n",
    "            This is typically the second term in the output of `forward`.\n",
    "        \"\"\"\n",
    "        # YOUR CODE HERE\n",
    "        # raise NotImplementedError()\n",
    "        indices, shape = context\n",
    "        return nn.functional.max_unpool2d(y, indices, **self.kwargs, output_size=shape)\n",
    "        \n",
    "    \n",
    "        \n",
    "        "
   ]
  },
  {
   "cell_type": "code",
   "execution_count": 10,
   "metadata": {
    "deletable": false,
    "editable": false,
    "nbgrader": {
     "cell_type": "code",
     "checksum": "21ea3f66db73587f4c2a7ad4e097066a",
     "grade": true,
     "grade_id": "cell-c9725dd49fb17067",
     "locked": true,
     "points": 0.5,
     "schema_version": 3,
     "solution": false,
     "task": false
    },
    "tags": []
   },
   "outputs": [],
   "source": [
    "# Test Cell: do not edit or delete!\n",
    "x = torch.ones(1, 3, 32, 32)\n",
    "pool = nn.MaxPool2d(kernel_size=2)\n",
    "wrapped = UndoableMaxPool2d(pool)\n",
    "out, context = wrapped(x)\n",
    "assert torch.allclose(out, pool(x))\n",
    "assert wrapped.undo(out, context).shape == x.shape, (\n",
    "    \"ex1: MaxPool2d.undo produces incorrect shape (-0.5 points)\"\n",
    ")"
   ]
  },
  {
   "cell_type": "code",
   "execution_count": 11,
   "metadata": {
    "deletable": false,
    "editable": false,
    "nbgrader": {
     "cell_type": "code",
     "checksum": "6f35120c644d32ba4ddc2a922775126d",
     "grade": true,
     "grade_id": "cell-9df9f45dfb216f0d",
     "locked": true,
     "points": 0.5,
     "schema_version": 3,
     "solution": false,
     "task": false
    },
    "tags": []
   },
   "outputs": [],
   "source": [
    "# Test Cell: do not edit or delete!\n",
    "x = torch.ones(1, 3, 32, 32)\n",
    "pool = nn.MaxPool2d(kernel_size=3)\n",
    "wrapped = UndoableMaxPool2d(pool)\n",
    "out, context = wrapped(x)\n",
    "assert torch.allclose(out, pool(x))\n",
    "assert wrapped.undo(out, context).shape == x.shape, (\n",
    "    \"ex1: MaxPool2d.undo does not (correctly) pad outputs (-0.5 points)\"\n",
    ")"
   ]
  },
  {
   "cell_type": "code",
   "execution_count": 12,
   "metadata": {
    "deletable": false,
    "nbgrader": {
     "cell_type": "code",
     "checksum": "3dbba6fcbbb41a7d5fcf19c916a0b793",
     "grade": false,
     "grade_id": "cell-81b9c193f35af782",
     "locked": false,
     "schema_version": 3,
     "solution": true,
     "task": false
    },
    "tags": []
   },
   "outputs": [],
   "source": [
    "class UndoableConv2d(nn.Module):\n",
    "    \"\"\"\n",
    "    Wrapper around a convolutional layer that adds 'undo' functionality.\n",
    "    \"\"\"\n",
    "    \n",
    "    def __init__(self, module: nn.Conv2d):\n",
    "        super().__init__()\n",
    "        self.original = module\n",
    "        \n",
    "    @property\n",
    "    def kwargs(self):\n",
    "        return {\n",
    "            k: getattr(self.original, k) \n",
    "            for k in (\"padding\", \"stride\", \"dilation\", \"groups\")\n",
    "        }\n",
    "        \n",
    "    def forward(self, x: torch.Tensor):\n",
    "        return nn.functional.conv2d(\n",
    "            x, self.original.weight, self.original.bias, **self.kwargs\n",
    "        ), x.shape[-2:]\n",
    "    \n",
    "    @torch.no_grad()\n",
    "    def undo(self, s: torch.Tensor, context):\n",
    "        \"\"\"\n",
    "        Undo the operation from the forward pass.\n",
    "        \n",
    "        Parameters\n",
    "        ----------\n",
    "        s : torch.Tensor\n",
    "            Data with same shape as the output of the original module.\n",
    "        context\n",
    "            Additional information to correctly undo the forward operation.\n",
    "            This is typically the second term in the output of `forward`.\n",
    "        \"\"\"\n",
    "        # YOUR CODE HERE\n",
    "        # raise NotImplementedError()\n",
    "        out_pad = context[0] -1 - (self.original.dilation[0])*(self.original.kernel_size[0]-1) - (s.shape[2] -1) *self.original.stride[0]\n",
    "        result =nn.functional.conv_transpose2d(s, self.original.weight, **self.kwargs, output_padding=out_pad)\n",
    "        return result\n",
    "        "
   ]
  },
  {
   "cell_type": "code",
   "execution_count": 13,
   "metadata": {
    "deletable": false,
    "editable": false,
    "nbgrader": {
     "cell_type": "code",
     "checksum": "a2ccafbf532deb492bee671ea71cce39",
     "grade": true,
     "grade_id": "cell-3483ccc444d20372",
     "locked": true,
     "points": 0.5,
     "schema_version": 3,
     "solution": false,
     "task": false
    },
    "tags": []
   },
   "outputs": [],
   "source": [
    "# Test Cell: do not edit or delete!\n",
    "x = torch.ones(1, 3, 32, 32)\n",
    "conv = nn.Conv2d(3, 16, 7)\n",
    "wrapped = UndoableConv2d(conv)\n",
    "out, context = wrapped(x)\n",
    "assert torch.allclose(out, conv(x)) and context == (32, 32)\n",
    "assert wrapped.undo(out, context).shape == x.shape, (\n",
    "    \"ex1: Conv2d.undo produces incorrect shape (-0.5 points)\"\n",
    ")"
   ]
  },
  {
   "cell_type": "code",
   "execution_count": 14,
   "metadata": {
    "deletable": false,
    "editable": false,
    "nbgrader": {
     "cell_type": "code",
     "checksum": "c2ef5c42665b29a5c7e6f62e7e7158ad",
     "grade": true,
     "grade_id": "cell-a44463f88b494dc3",
     "locked": true,
     "points": 0.5,
     "schema_version": 3,
     "solution": false,
     "task": false
    },
    "tags": []
   },
   "outputs": [],
   "source": [
    "# Test Cell: do not edit or delete!\n",
    "x = torch.ones(1, 3, 32, 32)\n",
    "conv = nn.Conv2d(3, 16, 7, stride=2)\n",
    "wrapped = UndoableConv2d(conv)\n",
    "assert wrapped.undo(*wrapped(x)).shape == x.shape, (\n",
    "    \"ex1: Conv2d.undo does not (correctly) pad outputs (-0.5 points)\"\n",
    ")"
   ]
  },
  {
   "cell_type": "code",
   "execution_count": 15,
   "metadata": {
    "deletable": false,
    "editable": false,
    "nbgrader": {
     "cell_type": "code",
     "checksum": "c30132b912dd51286e2834947c4702ac",
     "grade": true,
     "grade_id": "cell-9b4f26be10132b40",
     "locked": true,
     "points": 0.5,
     "schema_version": 3,
     "solution": false,
     "task": false
    },
    "tags": []
   },
   "outputs": [],
   "source": [
    "# Test Cell: do not edit or delete!"
   ]
  },
  {
   "cell_type": "code",
   "execution_count": 16,
   "metadata": {
    "deletable": false,
    "editable": false,
    "nbgrader": {
     "cell_type": "code",
     "checksum": "97a67cf04f966bdb4b695c4bef7bb4ed",
     "grade": true,
     "grade_id": "cell-757d05a0e86e847b",
     "locked": true,
     "points": 0.5,
     "schema_version": 3,
     "solution": false,
     "task": false
    },
    "tags": []
   },
   "outputs": [],
   "source": [
    "# Test Cell: do not edit or delete!"
   ]
  },
  {
   "cell_type": "markdown",
   "metadata": {},
   "source": [
    "### Exercise 2: Visualising Features (1 point)\n",
    "\n",
    "In the previous exercise I mentioned Zeiler and Fergus.\n",
    "They used this kind of undoable modules to visualise features.\n",
    "I think it is worth trying this out for yourself.\n",
    "Is there anything we can learn from these visualisations?\n",
    "\n",
    " > Implement the `visualise_activations` method of `UndoableSequential`.\n",
    " > The `wrapped` attribute gives you the undoable versions of each layer.\n",
    " > This way, you should be able to compute activations with context.\n",
    " > These activations with context can eventually be *undone* to obtain visualisations.\n",
    " > Rather than visualising all activations at once, however,\n",
    " > the goal should be to keep the `k` highest values and set other values to zero.\n",
    " > You can use the `keep_top_k` function to do this."
   ]
  },
  {
   "cell_type": "code",
   "execution_count": 17,
   "metadata": {
    "deletable": false,
    "editable": false,
    "nbgrader": {
     "cell_type": "code",
     "checksum": "bdb418a51d4628affe7fc1d86a12062c",
     "grade": false,
     "grade_id": "cell-2feca7f07595b984",
     "locked": true,
     "schema_version": 3,
     "solution": false,
     "task": false
    },
    "pycharm": {
     "name": "#%%\n"
    },
    "tags": []
   },
   "outputs": [],
   "source": [
    "def keep_top_k(tensor: torch.Tensor, k: int = 9) -> torch.Tensor:\n",
    "    \"\"\"\n",
    "    Drop all but the K highest entries in a tensor.\n",
    "    \n",
    "    Parameters\n",
    "    ----------\n",
    "    tensor : torch.Tensor\n",
    "        The tensor to start from.\n",
    "    k : int\n",
    "        The number of entries to keep.\n",
    "\n",
    "    Returns\n",
    "    -------\n",
    "    result : torch.Tensor\n",
    "        A tensor with only the K highest entries of `tensor`\n",
    "        in the corresponding positions.\n",
    "        All other entries are zero.\n",
    "    \"\"\"\n",
    "    result = torch.zeros_like(tensor)\n",
    "    vals, indices = torch.flatten(tensor, start_dim=1).topk(k, dim=-1)\n",
    "    torch.flatten(result, start_dim=1).scatter_(-1, indices, vals)\n",
    "    return result"
   ]
  },
  {
   "cell_type": "code",
   "execution_count": 18,
   "metadata": {
    "deletable": false,
    "nbgrader": {
     "cell_type": "code",
     "checksum": "2bb9d8af5356aae5a14c5eaa2a50c1ff",
     "grade": false,
     "grade_id": "cell-cc29165d7d1028d5",
     "locked": false,
     "schema_version": 3,
     "solution": true,
     "task": false
    },
    "tags": []
   },
   "outputs": [],
   "source": [
    "class UndoableSequential(nn.Module):\n",
    "    \"\"\"\n",
    "    Wrapper around a sequential layer that adds 'undo' functionality.\n",
    "    \"\"\"\n",
    "    \n",
    "    UNDOABLE_MODULES = {\n",
    "        nn.Conv2d: UndoableConv2d,\n",
    "        nn.MaxPool2d: UndoableMaxPool2d,\n",
    "        nn.ReLU: UndoableReLU,\n",
    "    }\n",
    "\n",
    "\n",
    "    def __init__(self, module: nn.Sequential):\n",
    "        super().__init__()\n",
    "        self.original = module\n",
    "        self.wrapped = nn.ModuleList([\n",
    "            self.UNDOABLE_MODULES[type(m)](m) for m in module\n",
    "        ])\n",
    "        \n",
    "    def forward(self, x: torch.Tensor, until: int = None):\n",
    "        context = []\n",
    "        for module in self.wrapped[:until]:\n",
    "            x, ctx = module(x)\n",
    "            context.append(ctx)\n",
    "        return x, context\n",
    "    \n",
    "    def visualise_activations(self, x: torch.Tensor, layer: int = None, k: int = 9):\n",
    "        \"\"\"\n",
    "        Visualise activations in input space.\n",
    "\n",
    "        Parameters\n",
    "        ---------\n",
    "        x : torch.Tensor\n",
    "            The data for which the activations should be visualised.\n",
    "        layer : int, optional\n",
    "            The layer to visualise the activations for.\n",
    "            By default, activations in the last layer are visualised.\n",
    "        k : int, optional\n",
    "            The number of activations to visualise.\n",
    "\n",
    "        Returns\n",
    "        -------\n",
    "        visualisation : torch.Tensor\n",
    "            The visualisations with the same shape as `x`.\n",
    "        \"\"\"\n",
    "        if layer <= 0:\n",
    "            return x\n",
    "        if layer > len(self.original):\n",
    "            raise ValueError(f\"no layer '{layer}' in a {len(self.original)}-layer network\")\n",
    "            \n",
    "        # YOUR CODE HERE\n",
    "        # raise NotImplementedError()\n",
    "        activations = x\n",
    "        for i in range(layer):\n",
    "            activations, _ = self.wrapped[i](activations)\n",
    "        return keep_top_k(activations, k=k)\n",
    "    \n",
    "            \n",
    "\n",
    "    "
   ]
  },
  {
   "cell_type": "code",
   "execution_count": 19,
   "metadata": {
    "deletable": false,
    "editable": false,
    "nbgrader": {
     "cell_type": "code",
     "checksum": "4d6a226dc3294ca1cb38c4bbd4c5c488",
     "grade": false,
     "grade_id": "cell-5c7ae15d4d5dffbf",
     "locked": true,
     "schema_version": 3,
     "solution": false,
     "task": false
    },
    "tags": []
   },
   "outputs": [
    {
     "name": "stdout",
     "output_type": "stream",
     "text": [
      "Using downloaded and verified file: /home/ari/.pytorch/cat.jpg\n"
     ]
    }
   ],
   "source": [
    "# download some random 256x256 kitten image\n",
    "kitten_url = 'https://homes.cs.washington.edu/~moreau/media/vta/cat.jpg'\n",
    "kitten_md5 = 'b852db33459ff958c9bba4e015cb37eb'\n",
    "x_im = download_image_data(kitten_url, kitten_md5)\n",
    "\n",
    "# download trained network\n",
    "net = models.alexnet(weights=models.AlexNet_Weights.DEFAULT)"
   ]
  },
  {
   "cell_type": "code",
   "execution_count": 20,
   "metadata": {
    "deletable": false,
    "editable": false,
    "nbgrader": {
     "cell_type": "code",
     "checksum": "c6f0af105715ffc1d0ae1674d45d1bba",
     "grade": true,
     "grade_id": "cell-970c27b2f58a4220",
     "locked": true,
     "points": 0.5,
     "schema_version": 3,
     "solution": false,
     "task": false
    },
    "pycharm": {
     "name": "#%%\n"
    },
    "tags": []
   },
   "outputs": [
    {
     "ename": "AssertionError",
     "evalue": "ex2: first layer vis does not have correct shape (-0.5 points)",
     "output_type": "error",
     "traceback": [
      "\u001b[0;31m---------------------------------------------------------------------------\u001b[0m",
      "\u001b[0;31mAssertionError\u001b[0m                            Traceback (most recent call last)",
      "Cell \u001b[0;32mIn[20], line 5\u001b[0m\n\u001b[1;32m      2\u001b[0m seq \u001b[39m=\u001b[39m UndoableSequential(net\u001b[39m.\u001b[39mfeatures)\n\u001b[1;32m      3\u001b[0m vis_layer1 \u001b[39m=\u001b[39m seq\u001b[39m.\u001b[39mvisualise_activations(x_im, layer\u001b[39m=\u001b[39m\u001b[39m1\u001b[39m)\n\u001b[0;32m----> 5\u001b[0m \u001b[39massert\u001b[39;00m vis_layer1\u001b[39m.\u001b[39mshape \u001b[39m==\u001b[39m x_im\u001b[39m.\u001b[39mshape, (\n\u001b[1;32m      6\u001b[0m     \u001b[39m\"\u001b[39m\u001b[39mex2: first layer vis does not have correct shape (-0.5 points)\u001b[39m\u001b[39m\"\u001b[39m\n\u001b[1;32m      7\u001b[0m )\n\u001b[1;32m      8\u001b[0m \u001b[39massert\u001b[39;00m torch\u001b[39m.\u001b[39mcount_nonzero(vis_layer1\u001b[39m.\u001b[39msum(\u001b[39m1\u001b[39m)) \u001b[39m<\u001b[39m\u001b[39m=\u001b[39m \u001b[39m1089\u001b[39m, (\n\u001b[1;32m      9\u001b[0m     \u001b[39m\"\u001b[39m\u001b[39mex2: too many non-zero values in first layer vis for k=9 (-0.5 points)\u001b[39m\u001b[39m\"\u001b[39m\n\u001b[1;32m     10\u001b[0m )\n",
      "\u001b[0;31mAssertionError\u001b[0m: ex2: first layer vis does not have correct shape (-0.5 points)"
     ]
    }
   ],
   "source": [
    "# Test Cell: do not edit or delete!\n",
    "seq = UndoableSequential(net.features)\n",
    "vis_layer1 = seq.visualise_activations(x_im, layer=1)\n",
    "\n",
    "assert vis_layer1.shape == x_im.shape, (\n",
    "    \"ex2: first layer vis does not have correct shape (-0.5 points)\"\n",
    ")\n",
    "assert torch.count_nonzero(vis_layer1.sum(1)) <= 1089, (\n",
    "    \"ex2: too many non-zero values in first layer vis for k=9 (-0.5 points)\"\n",
    ")"
   ]
  },
  {
   "cell_type": "code",
   "execution_count": 21,
   "metadata": {
    "deletable": false,
    "editable": false,
    "nbgrader": {
     "cell_type": "code",
     "checksum": "97bf63d8eca515d9c0eadb08b41b9f58",
     "grade": true,
     "grade_id": "cell-7076e3389bc18ca9",
     "locked": true,
     "points": 0.5,
     "schema_version": 3,
     "solution": false,
     "task": false
    },
    "pycharm": {
     "name": "#%%\n"
    },
    "tags": []
   },
   "outputs": [
    {
     "ename": "AssertionError",
     "evalue": "ex2: fourth layer vis does not have correct shape (-0.5 points)",
     "output_type": "error",
     "traceback": [
      "\u001b[0;31m---------------------------------------------------------------------------\u001b[0m",
      "\u001b[0;31mAssertionError\u001b[0m                            Traceback (most recent call last)",
      "Cell \u001b[0;32mIn[21], line 3\u001b[0m\n\u001b[1;32m      1\u001b[0m \u001b[39m# Test Cell: do not edit or delete!\u001b[39;00m\n\u001b[1;32m      2\u001b[0m vis_layer2 \u001b[39m=\u001b[39m seq\u001b[39m.\u001b[39mvisualise_activations(x_im, layer\u001b[39m=\u001b[39m\u001b[39m4\u001b[39m)\n\u001b[0;32m----> 3\u001b[0m \u001b[39massert\u001b[39;00m vis_layer2\u001b[39m.\u001b[39mshape \u001b[39m==\u001b[39m x_im\u001b[39m.\u001b[39mshape, (\n\u001b[1;32m      4\u001b[0m     \u001b[39m\"\u001b[39m\u001b[39mex2: fourth layer vis does not have correct shape (-0.5 points)\u001b[39m\u001b[39m\"\u001b[39m\n\u001b[1;32m      5\u001b[0m )\n\u001b[1;32m      6\u001b[0m \u001b[39massert\u001b[39;00m torch\u001b[39m.\u001b[39mcount_nonzero(vis_layer2\u001b[39m.\u001b[39msum(\u001b[39m1\u001b[39m)) \u001b[39m<\u001b[39m\u001b[39m=\u001b[39m \u001b[39m24336\u001b[39m, (\n\u001b[1;32m      7\u001b[0m     \u001b[39m\"\u001b[39m\u001b[39mex2: too many non-zero values in fourth layer vis for k=9 (-0.5 points)\u001b[39m\u001b[39m\"\u001b[39m\n\u001b[1;32m      8\u001b[0m )\n",
      "\u001b[0;31mAssertionError\u001b[0m: ex2: fourth layer vis does not have correct shape (-0.5 points)"
     ]
    }
   ],
   "source": [
    "# Test Cell: do not edit or delete!\n",
    "vis_layer2 = seq.visualise_activations(x_im, layer=4)\n",
    "assert vis_layer2.shape == x_im.shape, (\n",
    "    \"ex2: fourth layer vis does not have correct shape (-0.5 points)\"\n",
    ")\n",
    "assert torch.count_nonzero(vis_layer2.sum(1)) <= 24336, (\n",
    "    \"ex2: too many non-zero values in fourth layer vis for k=9 (-0.5 points)\"\n",
    ")"
   ]
  },
  {
   "cell_type": "code",
   "execution_count": 22,
   "metadata": {
    "deletable": false,
    "editable": false,
    "nbgrader": {
     "cell_type": "code",
     "checksum": "606ecd7db17af54f5cbb0b4e55cb8ae9",
     "grade": false,
     "grade_id": "cell-35ddcf5eed890a9b",
     "locked": true,
     "schema_version": 3,
     "solution": false,
     "task": false
    },
    "pycharm": {
     "name": "#%%\n"
    },
    "tags": []
   },
   "outputs": [
    {
     "ename": "RuntimeError",
     "evalue": "Sizes of tensors must match except in dimension 2. Expected size 64 but got size 3 for tensor number 1 in the list.",
     "output_type": "error",
     "traceback": [
      "\u001b[0;31m---------------------------------------------------------------------------\u001b[0m",
      "\u001b[0;31mRuntimeError\u001b[0m                              Traceback (most recent call last)",
      "Cell \u001b[0;32mIn[22], line 2\u001b[0m\n\u001b[1;32m      1\u001b[0m \u001b[39m# sanity check\u001b[39;00m\n\u001b[0;32m----> 2\u001b[0m out \u001b[39m=\u001b[39m data_to_image(vis_layer1[\u001b[39m0\u001b[39;49m], x_im[\u001b[39m0\u001b[39;49m], vis_layer2[\u001b[39m0\u001b[39;49m],\n\u001b[1;32m      3\u001b[0m                     means\u001b[39m=\u001b[39;49m(\u001b[39m.485\u001b[39;49m, \u001b[39m.456\u001b[39;49m, \u001b[39m.406\u001b[39;49m), stds\u001b[39m=\u001b[39;49m(\u001b[39m.229\u001b[39;49m, \u001b[39m.224\u001b[39;49m, \u001b[39m.225\u001b[39;49m))\n\u001b[1;32m      4\u001b[0m display(out, metadata\u001b[39m=\u001b[39m{\u001b[39m'\u001b[39m\u001b[39mwidth\u001b[39m\u001b[39m'\u001b[39m: \u001b[39m'\u001b[39m\u001b[39m100\u001b[39m\u001b[39m%\u001b[39m\u001b[39m'\u001b[39m})\n",
      "Cell \u001b[0;32mIn[5], line 21\u001b[0m, in \u001b[0;36mdata_to_image\u001b[0;34m(means, stds, *data)\u001b[0m\n\u001b[1;32m      3\u001b[0m \u001b[39m\u001b[39m\u001b[39m\"\"\"\u001b[39;00m\n\u001b[1;32m      4\u001b[0m \u001b[39mConvert multiple tensors to one big image.\u001b[39;00m\n\u001b[1;32m      5\u001b[0m \u001b[39m\u001b[39;00m\n\u001b[0;32m   (...)\u001b[0m\n\u001b[1;32m     18\u001b[0m \u001b[39m    PIL image with all of the tensors next to each other.\u001b[39;00m\n\u001b[1;32m     19\u001b[0m \u001b[39m\"\"\"\u001b[39;00m\n\u001b[1;32m     20\u001b[0m \u001b[39m# concatenate all data\u001b[39;00m\n\u001b[0;32m---> 21\u001b[0m big_pic \u001b[39m=\u001b[39m torch\u001b[39m.\u001b[39;49mcat([x \u001b[39mfor\u001b[39;49;00m x \u001b[39min\u001b[39;49;00m data], dim\u001b[39m=\u001b[39;49m\u001b[39m-\u001b[39;49m\u001b[39m1\u001b[39;49m)\n\u001b[1;32m     23\u001b[0m means \u001b[39m=\u001b[39m torch\u001b[39m.\u001b[39mtensor(means)\n\u001b[1;32m     24\u001b[0m stds \u001b[39m=\u001b[39m torch\u001b[39m.\u001b[39mtensor(stds)\n",
      "\u001b[0;31mRuntimeError\u001b[0m: Sizes of tensors must match except in dimension 2. Expected size 64 but got size 3 for tensor number 1 in the list."
     ]
    }
   ],
   "source": [
    "# sanity check\n",
    "out = data_to_image(vis_layer1[0], x_im[0], vis_layer2[0],\n",
    "                    means=(.485, .456, .406), stds=(.229, .224, .225))\n",
    "display(out, metadata={'width': '100%'})"
   ]
  },
  {
   "cell_type": "markdown",
   "metadata": {
    "pycharm": {
     "name": "#%% md\n"
    },
    "tags": []
   },
   "source": [
    "### Exercise 3: Convolutional Auto-Encoders (3 points)\n",
    "\n",
    "Architecturally an auto-encoder is not much more than a model \n",
    "where inputs and outputs have the same dimensions.\n",
    "For fully-connected networks this is relatively straightforward.\n",
    "However, with our newly acquired knowledge on transposed convolutions,\n",
    "also convolutional and pooling layers should not pose too much problems.\n",
    "One key difference is that the transposed convolutions n an auto-encoder\n",
    "will have their own learnable parameters.\n",
    "\n",
    "The architecture is typically symmetrical and consists of two parts:\n",
    "\n",
    " 1. an **encoder** that transforms the image to some latent space and\n",
    " 2. a **decoder** that produces an image from vectors in the latent space.\n",
    " \n",
    "Since both components can operate independently from each other,\n",
    "auto-encoders can be used to e.g. learn compression algorithms.\n",
    "Because the output of both networks can be useful, \n",
    "it is typically a good idea to have them predict logits,\n",
    "i.e. not to use activation functions at the end.\n",
    "This way, both the output of the encoder\n",
    "and the output of the decoder can be used in loss functions.\n",
    "\n",
    " > Implement the `AutoEncoder` class with an `encoder` and a `decoder` network.\n",
    " > The `encoder` network should have at least \n",
    " > one average-pooling and two convolutional layers.\n",
    " > The `decoder` architecture should be symmetric to that of the `encoder`,\n",
    " > except for the exact placement of activation functions.\n",
    " > The `forward` method should aim to reconstruct the inputs\n",
    " > using the `encoder` and `decoder` networks.\n",
    " > You can ignore the `to_intensities` and `reconstruct` methods (for now).\n",
    " \n",
    "**Hint:** Average pooling can be *undone* by upsampling the image."
   ]
  },
  {
   "cell_type": "code",
   "execution_count": 23,
   "metadata": {},
   "outputs": [],
   "source": [
    "from typing import Tuple"
   ]
  },
  {
   "cell_type": "code",
   "execution_count": 24,
   "metadata": {
    "deletable": false,
    "nbgrader": {
     "cell_type": "code",
     "checksum": "e2718e157247be4aa80fddb78e0b2a00",
     "grade": false,
     "grade_id": "cell-c67df72970121511",
     "locked": false,
     "schema_version": 3,
     "solution": true,
     "task": false
    },
    "pycharm": {
     "name": "#%%\n"
    },
    "tags": []
   },
   "outputs": [],
   "source": [
    "class AutoEncoder(nn.Module):\n",
    "    \"\"\" Convolutional auto-encoder. \"\"\"\n",
    "    \n",
    "    def __init__(self, in_channels: int, hid_channels: int, code_channels: int, \n",
    "                 kernel_size: int, stride: int = 1, pooling: int = 2, \n",
    "                 activation: nn.Module = nn.ReLU(), assumption: str = None):\n",
    "        \"\"\"\n",
    "        Parameters\n",
    "        ----------\n",
    "        in_channels : int\n",
    "            Number of channels in the inputs.\n",
    "        hid_channels : int\n",
    "            Number of channels in the hidden layer(s).\n",
    "        code_channels : int\n",
    "            Number of channels in the latent space.\n",
    "        kernel_size : int or tuple\n",
    "            Window size for convolutional layers\n",
    "        stride : int or tuple, optional\n",
    "            Window strides for convolutional layers.\n",
    "        pooling : int or tuple, optional\n",
    "            Window size for the average pooling.\n",
    "        activation : nn.Module, optional\n",
    "            Activation function for the auto-encoder.\n",
    "        assumption : str, optional\n",
    "            The assumption used for reconstruction, available options are:\n",
    "            \n",
    "            - gauss: assume targets to be standard normally distributed\n",
    "            - truncated: assume targets to be Gaussian truncated to [0, 1]\n",
    "            - binomial: assume targets to be probabilities for binomial\n",
    "            - binary: assume targets to be binomially distributed\n",
    "        \"\"\"\n",
    "        super().__init__()\n",
    "        self.assumption = assumption\n",
    "        self.encoder = nn.Sequential()\n",
    "        self.decoder = nn.Sequential()\n",
    "        # YOUR CODE HERE\n",
    "        # raise NotImplementedError()\n",
    "        self.encoder.add_module('conv1', nn.Conv2d(in_channels, hid_channels, kernel_size, stride))\n",
    "        self.encoder.add_module('average pooling', nn.AvgPool2d(kernel_size=pooling))\n",
    "        self.encoder.add_module('activation', activation)\n",
    "        self.encoder.add_module('conv2', nn.Conv2d(hid_channels, code_channels, kernel_size))\n",
    "        self.encoder.add_module('logits', nn.Sigmoid())\n",
    "        \n",
    "        self.decoder.add_module('Transpose conv1', nn.ConvTranspose2d(code_channels, hid_channels, kernel_size, stride))\n",
    "        self.decoder.add_module('activation', activation)\n",
    "        self.decoder.add_module('upsampling', nn.UpsamplingBilinear2d(scale_factor=pooling))\n",
    "        self.decoder.add_module('Transpose conv2', nn.ConvTranspose2d(hid_channels, in_channels, kernel_size, stride))\n",
    "    \n",
    "    \n",
    "    def forward(self, x):\n",
    "        # YOUR CODE HERE\n",
    "        # raise NotImplementedError()\n",
    "        x = self.encoder(x)\n",
    "        x = self.decoder(x)\n",
    "        return x\n",
    "            \n",
    "    @torch.no_grad()\n",
    "    def to_intensities(self, logits: torch.Tensor, x_range: Tuple[float, float] = None) -> torch.Tensor:\n",
    "        \"\"\"\n",
    "        Decode logits to proper pixel intensities according to assumptions.\n",
    "        \n",
    "        Parameters\n",
    "        ----------\n",
    "        logits : torch.Tensor\n",
    "            Logits to be decoded by this auto-encoder.\n",
    "\n",
    "        Returns\n",
    "        -------\n",
    "        image : torch.Tensor\n",
    "            Decoded image with pixel intensities in [0, 1].\n",
    "        \"\"\"\n",
    "        if self.assumption is None:\n",
    "            return logits\n",
    "        elif self.assumption == \"gauss\":\n",
    "            if x_range is not None:\n",
    "                logits.clamp_(*x_range)\n",
    "            return (logits - logits.min()) / (logits.max() - logits.min())\n",
    "        elif self.assumption == \"truncated\":\n",
    "            return logits.clamp_(0, 1)\n",
    "        elif self.assumption == \"binomial\":\n",
    "            return torch.sigmoid(logits)\n",
    "        elif self.assumption == \"binary\":\n",
    "            return (logits > 0).float()\n",
    "        else:\n",
    "            raise NotImplementedError(\n",
    "                f\"no implementation for assumption '{self.assumption}', feel free to add your own!\"\n",
    "            )\n",
    "    \n",
    "    @torch.no_grad()\n",
    "    def reconstruct(self, x: torch.Tensor) -> torch.Tensor:\n",
    "        \"\"\" Reconstruct inputs to proper images. \"\"\"\n",
    "        logits = self.forward(x)\n",
    "        return self.to_intensities(logits, (x.min(), x.max()))"
   ]
  },
  {
   "cell_type": "code",
   "execution_count": 25,
   "metadata": {
    "deletable": false,
    "editable": false,
    "nbgrader": {
     "cell_type": "code",
     "checksum": "3dfc855d5883c17e907050ea3d684d10",
     "grade": true,
     "grade_id": "cell-44340745bc0c7a26",
     "locked": true,
     "points": 1,
     "schema_version": 3,
     "solution": false,
     "task": false
    },
    "tags": []
   },
   "outputs": [],
   "source": [
    "# Test Cell: do not edit or delete!\n",
    "ae = AutoEncoder(1, 1, 1, 3)\n",
    "assert len(ae.encoder) > 3, (\n",
    "    \"ex3: encoder has too little modules (-1 point)\"\n",
    ")"
   ]
  },
  {
   "cell_type": "code",
   "execution_count": 26,
   "metadata": {
    "deletable": false,
    "editable": false,
    "nbgrader": {
     "cell_type": "code",
     "checksum": "ba58c532ec21f76cd843edcf077f5ebb",
     "grade": true,
     "grade_id": "cell-90c4a648100da957",
     "locked": true,
     "points": 1,
     "schema_version": 3,
     "solution": false,
     "task": false
    },
    "tags": []
   },
   "outputs": [],
   "source": [
    "# Test Cell: do not edit or delete!\n",
    "ae = AutoEncoder(1, 1, 1, 3)\n",
    "assert len(ae.decoder) > 3, (\n",
    "    \"ex3: decoder has too little modules (-1 point)\"\n",
    ")"
   ]
  },
  {
   "cell_type": "code",
   "execution_count": 27,
   "metadata": {
    "deletable": false,
    "editable": false,
    "nbgrader": {
     "cell_type": "code",
     "checksum": "79e6666b7bd304d01394ddd181d0eb00",
     "grade": true,
     "grade_id": "cell-5ae408de99c7f8ca",
     "locked": true,
     "points": 0.5,
     "schema_version": 3,
     "solution": false,
     "task": false
    },
    "tags": []
   },
   "outputs": [],
   "source": [
    "# Test Cell: do not edit or delete!\n",
    "ae = AutoEncoder(1, 16, 8, 5)\n",
    "x = torch.randn(1, 1, 28, 28)\n",
    "y = ae(x)\n",
    "assert x.shape == y.shape, (\n",
    "    f\"ex3: reconstructed input has different shape: {tuple(y.shape)} (-0.5 points)\"\n",
    ")"
   ]
  },
  {
   "cell_type": "code",
   "execution_count": 28,
   "metadata": {
    "deletable": false,
    "editable": false,
    "nbgrader": {
     "cell_type": "code",
     "checksum": "cd9b61475fccf5264f1f8bf8c740bf5e",
     "grade": true,
     "grade_id": "cell-74bfdd0982e1e9f0",
     "locked": true,
     "points": 0.5,
     "schema_version": 3,
     "solution": false,
     "task": false
    },
    "tags": []
   },
   "outputs": [],
   "source": [
    "# Test Cell: do not edit or delete!"
   ]
  },
  {
   "cell_type": "markdown",
   "metadata": {
    "tags": []
   },
   "source": [
    "### Exercise 4: Auto-Encoding (2 points)\n",
    "\n",
    "Of course, training an auto-encoder takes more than just a nice architecture.\n",
    "The loss function as well as the pre-processing of data will also affect the results.\n",
    "There is no right or wrong as long as you get the desired result.\n",
    "However, we can make certain assumptions to guide the search for a good combination.\n",
    "After all, all components have to work together to get nice reconstructions.\n",
    "Can you spot/explain the difference in results for different assumptions?\n",
    "\n",
    " > Train the simple auto-encoder from exercise 3 on the AutoMNIST dataset.\n",
    " > Fill out the template code below using the `AutoEncoderTrainer` class,\n",
    " > which has been defined in the \"preamble\" of this assignment.\n",
    " > Your main task will be to choose a loss function and set up pre-processing of the targets.\n",
    " > Use the `assumption` kwarg of the `AutoEncoder` class to indicate your assumptions.\n",
    " > This should also guarantee correct visualisations of the reconstructions.\n",
    " > Make sure that the assumption matches the chosen loss function and pre-processing.\n",
    " > Feel free to add assumptions in the `reconstruct` method if you feel something is missing.\n",
    "\n",
    "**Hint:** A few `assumption` options are provided in the documentation of `AutoEncoder.__init__`"
   ]
  },
  {
   "cell_type": "code",
   "execution_count": 29,
   "metadata": {},
   "outputs": [],
   "source": [
    "CUDA_LAUNCH_BLOCKING=1"
   ]
  },
  {
   "cell_type": "code",
   "execution_count": 30,
   "metadata": {
    "deletable": false,
    "nbgrader": {
     "cell_type": "code",
     "checksum": "a251d8bbcc5f892d098c0af562a500c0",
     "grade": false,
     "grade_id": "cell-1a9420b012136606",
     "locked": false,
     "schema_version": 3,
     "solution": true,
     "task": false
    },
    "tags": []
   },
   "outputs": [],
   "source": [
    "data = AutoMNIST(\n",
    "    data_root,\n",
    "    transform=transforms.Compose([\n",
    "        transforms.ToTensor(),\n",
    "        transforms.Normalize((.1307, ), (.3081, )),\n",
    "    ]),\n",
    "\n",
    "    target_transform = transforms.Compose([\n",
    "        transforms.ToTensor(),\n",
    "        transforms.Normalize((.1307, ), (.3081, )),\n",
    "    ]),# None, # TODO: pre-processing\n",
    "    download=True\n",
    ")\n",
    "loss = nn.MSELoss().to(device) \n",
    "auto_encoder = AutoEncoder(\n",
    "    1, 64, 16, 5, activation=nn.ELU(), \n",
    "    assumption = 'gauss',  # TODO: assumption\n",
    ").to(device)\n",
    "trainer = AutoEncoderTrainer(\n",
    "    model=auto_encoder,\n",
    "    criterion=loss,  # TODO: loss function\n",
    "    optimiser=optim.Adamax(auto_encoder.parameters()),\n",
    ")\n",
    "\n",
    "# YOUR CODE HERE\n",
    "# raise NotImplementedError()\n",
    "# consider 1000 images in data as training data\n",
    "# data = torch.utils.data.Subset(data, range(1000))\n",
    "\n",
    "# print(len(data))\n",
    "# train_data = DataLoader(data, batch_size=16, shuffle=True)\n",
    "# train_loss = trainer.train(train_data)\n"
   ]
  },
  {
   "cell_type": "code",
   "execution_count": 31,
   "metadata": {
    "deletable": false,
    "editable": false,
    "nbgrader": {
     "cell_type": "code",
     "checksum": "204001b309c814bed6320db5b9bac196",
     "grade": true,
     "grade_id": "cell-b6b8e706a81321cd",
     "locked": true,
     "points": 1,
     "schema_version": 3,
     "solution": false,
     "task": false
    },
    "tags": []
   },
   "outputs": [],
   "source": [
    "# Test Cell: do not edit or delete!\n",
    "assert len(data.transform.transforms) == 2, (\n",
    "    \"ex4: input transform should not be altered! (-1 point)\"\n",
    ")\n",
    "\n",
    "try:\n",
    "    x_in, x_out = data[0]\n",
    "    assert torch.is_tensor(x_in) and torch.is_tensor(x_out), (\n",
    "        \"ex4: pre-processing does not produce tensors (-1 point)\"\n",
    "    )\n",
    "except (TypeError, RuntimeError):\n",
    "    raise AssertionError(\n",
    "        \"ex4: pre-processing is broken (-1 point)\"\n",
    "    ) from None\n"
   ]
  },
  {
   "cell_type": "code",
   "execution_count": 32,
   "metadata": {
    "deletable": false,
    "editable": false,
    "nbgrader": {
     "cell_type": "code",
     "checksum": "4ea500e244c02ad83a4193d7851f4520",
     "grade": true,
     "grade_id": "cell-e15fb12fe6ad77c5",
     "locked": true,
     "points": 1,
     "schema_version": 3,
     "solution": false,
     "task": false
    },
    "tags": []
   },
   "outputs": [],
   "source": [
    "# Test Cell: do not edit or delete!\n",
    "x_rec = auto_encoder.reconstruct(torch.randn(16, 1, 28, 28).to(device))\n",
    "assert x_rec.min() >= 0 and x_rec.max() <= 1, (\n",
    "    \"ex4: invalid range for reconstructed values: \"\n",
    "    f\"[{x_rec.min().item(), x_rec.max().item()}] (-1 point)\"\n",
    ")"
   ]
  },
  {
   "cell_type": "code",
   "execution_count": 33,
   "metadata": {
    "tags": [
     "skip-execution"
    ]
   },
   "outputs": [
    {
     "name": "stdout",
     "output_type": "stream",
     "text": [
      "Epoch  0 - avg loss: 0.983670 \n"
     ]
    },
    {
     "data": {
      "image/png": "[encoded data removed]",
      "text/plain": [
       "<PIL.Image.Image image mode=L size=280x56>"
      ]
     },
     "metadata": {
      "width": "100%"
     },
     "output_type": "display_data"
    },
    {
     "name": "stdout",
     "output_type": "stream",
     "text": [
      "Epoch  0 - avg loss: 0.579345 \n",
      "Epoch  0 - avg loss: 0.195152 \n",
      "Epoch  0 - avg loss: 0.149415 \n",
      "Epoch  0 - avg loss: 0.125352 \n",
      "Epoch  0 - avg loss: 0.108348 \n"
     ]
    },
    {
     "data": {
      "image/png": "[encoded data removed]",
      "text/plain": [
       "<PIL.Image.Image image mode=L size=280x56>"
      ]
     },
     "metadata": {
      "width": "100%"
     },
     "output_type": "display_data"
    },
    {
     "name": "stdout",
     "output_type": "stream",
     "text": [
      "Epoch  0 - avg loss: 0.095647 \n",
      "Epoch  0 - avg loss: 0.085902 \n",
      "Epoch  0 - avg loss: 0.078268 \n",
      "Epoch  0 - avg loss: 0.072259 \n",
      "Epoch  0 - avg loss: 0.067337 \n"
     ]
    },
    {
     "data": {
      "image/png": "[encoded data removed]",
      "text/plain": [
       "<PIL.Image.Image image mode=L size=280x56>"
      ]
     },
     "metadata": {
      "width": "100%"
     },
     "output_type": "display_data"
    }
   ],
   "source": [
    "# sanity check\n",
    "loader = DataLoader(data, batch_size=256, shuffle=True, num_workers=4)\n",
    "trainer.train(loader, num_epochs=10)"
   ]
  },
  {
   "cell_type": "markdown",
   "metadata": {},
   "source": [
    "## Variational Auto-Encoders\n",
    "\n",
    "Variational auto-encoders (VAEs) extend auto-encoders in a probabilistic way.\n",
    "Although this might sound complicated, it only requires a few modifications to make an auto-encoder variational.\n",
    "First of all, the latent space is regularised to stay close to a (standard normal) distribution.\n",
    "Secondly, VAEs do not produce specific codes, but rather a distribution of codes.\n",
    "In practice this is done by directly mapping inputs to the parameters of a distribution.\n",
    "\n",
    "The main advantage of this approach, is that the the distribution of the latent codes remains well under control.\n",
    "As a result, we can sample from this latent distribution and decode these sampled codes to generate new data."
   ]
  },
  {
   "cell_type": "markdown",
   "metadata": {
    "tags": []
   },
   "source": [
    "### Exercise 5: Variational Auto-Encoder (4 points)\n",
    "\n",
    "VAEs predict the distribution parameters of the latent space,\n",
    "rather than a specific code in the latent space.\n",
    "In the case of a Gaussian latent distribution, \n",
    "this means that the encoder produces a mean and log-variance for every input sample.\n",
    "By predicting the log-variance, the variance is guaranteed to be positive.\n",
    "\n",
    "Because the codes of a VAE are distributions, it is not possible to directly decode them back to images.\n",
    "Instead, specific codes have to be sampled from the latent distribution before decoding.\n",
    "This is the main difference, architecturally, between AEs and VAEs.\n",
    "The main difference during training is the regularisation.\n",
    "This is what makes VAEs especially interesting for generating new images.\n",
    "\n",
    " > Implement the `VariationalAutoEncoder` class.\n",
    " > The `sample` method should sample a latent vector from a Gaussian with given mean and log-variance. \n",
    " > Note that the `sample` method for a VAE must be differentiable!\n",
    " > In addition to the regular output, \n",
    " > the `forward` method should also return the distribution parameters.\n",
    " > These can then be used to compute the regularisation loss,\n",
    " > which should be implemented in the `regularisation` method."
   ]
  },
  {
   "cell_type": "code",
   "execution_count": 34,
   "metadata": {
    "deletable": false,
    "nbgrader": {
     "cell_type": "code",
     "checksum": "0a10bc39ee1564ad136f7f81142aa3d4",
     "grade": false,
     "grade_id": "cell-b05bd9cbbe066071",
     "locked": false,
     "schema_version": 3,
     "solution": true,
     "task": false
    },
    "tags": []
   },
   "outputs": [],
   "source": [
    "class VariationalAutoEncoder(nn.Module):\n",
    "    \"\"\" Variational auto-encoder with standard normal prior. \"\"\"\n",
    "\n",
    "    @staticmethod\n",
    "    def sample(mean: torch.Tensor, log_var: torch.Tensor):\n",
    "        \"\"\"\n",
    "        Sample randomly from the latent space in a differentiable manner.\n",
    "\n",
    "        Parameters\n",
    "        ----------\n",
    "        mean : (N, code_features) Tensor\n",
    "            Mean(s) for sampling new images.\n",
    "        log_var : (N, code_features) Tensor\n",
    "            Logarithm of variance(s) for sampling new images.\n",
    "\n",
    "        Returns\n",
    "        -------\n",
    "        sample : (N, code_features) Tensor\n",
    "            The randomly generated sample in latent space.\n",
    "        \"\"\"\n",
    "        # YOUR CODE HERE\n",
    "        # raise NotImplementedError()\n",
    "        std = torch.sqrt(torch.exp(log_var))\n",
    "        epsilon = torch.normal(0,1, size = mean.shape)# Noise which is standard gaussian distribution\n",
    "        z = mean + std*epsilon #(Sampled new distribution).\n",
    "        return z\n",
    "        \n",
    "    \n",
    "    @staticmethod\n",
    "    def regularisation(parameters: Tuple[torch.Tensor, torch.Tensor]):\n",
    "        \"\"\"\n",
    "        Compute regularisation loss.\n",
    "        \n",
    "\n",
    "        Parameters\n",
    "        ----------\n",
    "        parameters : (Tensor, Tensor)\n",
    "            Mean and log_var predictions from forward pass.\n",
    "\n",
    "        Returns\n",
    "        -------\n",
    "        kl_div : Tensor\n",
    "            The Kullback-Leibler divergence between a standard normal\n",
    "            and the Gaussian distribution specified by `parameters`.\n",
    "        \"\"\"\n",
    "        # YOUR CODE HERE\n",
    "        # raise NotImplementedError()\n",
    "        # log_var = log(sigma^2) ---->>> sigma^2 = exp(log_var)\n",
    "        kl_div = -0.5 * torch.sum(1 + parameters[1] - torch.exp(parameters[1]) - parameters[0]*parameters[0] )   # -0.5(1+log(sigma^2) - sigma^2 - mean^2)\n",
    "        return kl_div\n",
    "\n",
    "\n",
    "    def __init__(self, encoder: nn.Module, decoder: nn.Module, \n",
    "                 assumption: str = None):\n",
    "        super().__init__()\n",
    "        self.assumption = assumption\n",
    "        self.encoder = encoder\n",
    "        self.decoder = decoder\n",
    "\n",
    "    def forward(self, x: torch.Tensor):\n",
    "        \"\"\"\n",
    "        Parameters\n",
    "        ----------\n",
    "        x : torch.Tensor\n",
    "            The inputs to the forward pass.\n",
    "        \n",
    "        Returns\n",
    "        -------\n",
    "        y : torch.Tensor\n",
    "            The logits computed from `x`\n",
    "        parameters : tuple of torch.Tensor\n",
    "            The parameters for the latent distribution.\n",
    "            This is used to compute the regularisation.\n",
    "        \"\"\"\n",
    "        # YOUR CODE HERE\n",
    "        # raise NotImplementedError()\n",
    "        x = self.encoder(x)\n",
    "        mean, log_var = torch.chunk(x, 2, dim = 1) # mean and log_var are concatenated in the encoder\n",
    "        z = self.sample(mean, log_var)\n",
    "        y = self.decoder(z)\n",
    "        return y, (mean, log_var)\n",
    "    \n",
    "    \n",
    "    @torch.no_grad()\n",
    "    def generate(self, mean: torch.Tensor, log_var: torch.Tensor = 0.,\n",
    "                 y_range: Tuple[float, float] = None) -> torch.Tensor:\n",
    "        \"\"\"\n",
    "        Generate one or more new images.\n",
    "\n",
    "        Parameters\n",
    "        ----------\n",
    "        mean : (N, code_features) Tensor\n",
    "            Mean in latent space for generating images.\n",
    "        log_var : (N, code_features) Tensor, optional\n",
    "            Logarithm of variance(s) in latent space for generating images.\n",
    "            \n",
    "        Returns\n",
    "        -------\n",
    "        img : (N, in_features) Tensor\n",
    "            Image with the same dimensions as the inputs\n",
    "            and pixel intensities in [0, 1].\n",
    "\n",
    "        See Also\n",
    "        --------\n",
    "        `sample(mean, log_var)` : sample randomly in latent space.\n",
    "        \"\"\"\n",
    "        device = next(self.encoder.parameters()).device\n",
    "        mean = torch.as_tensor(mean).to(device)\n",
    "        log_var = torch.as_tensor(log_var).to(device)\n",
    "        z = self.sample(mean, log_var)\n",
    "        logits = self.decoder(z)\n",
    "        return AutoEncoder.to_intensities(self, logits, y_range)\n",
    "\n",
    "    @torch.no_grad()\n",
    "    def reconstruct(self, x: torch.Tensor) -> torch.Tensor:\n",
    "        \"\"\" Reconstruct inputs to proper images. \"\"\"\n",
    "        logits, _ = self.forward(x)\n",
    "        return AutoEncoder.to_intensities(self, logits, (x.min(), x.max()))"
   ]
  },
  {
   "cell_type": "code",
   "execution_count": 35,
   "metadata": {
    "deletable": false,
    "editable": false,
    "nbgrader": {
     "cell_type": "code",
     "checksum": "fbdff66723579226af3acc4a5ac3ba7c",
     "grade": true,
     "grade_id": "cell-65731bfe7f8f0679",
     "locked": true,
     "points": 1,
     "schema_version": 3,
     "solution": false,
     "task": false
    },
    "tags": []
   },
   "outputs": [],
   "source": [
    "# Test Cell: do not edit or delete!\n",
    "mean, log_var = torch.ones(1024, 10), torch.zeros(1024, 10)\n",
    "z = VariationalAutoEncoder.sample(mean, log_var)\n",
    "assert z.shape == mean.shape, (\n",
    "    \"ex5: incorrect shape for sampled VAE latents (-1 point)\"\n",
    ")\n",
    "assert torch.allclose(z.mean(0), torch.ones(1), atol=1e-1), (\n",
    "    \"ex5: incorrect mean for sampled VAE latents: \"\n",
    "    f\"'{z.mean(0).abs().max().item():.3f}' (-1 point)\"\n",
    ")"
   ]
  },
  {
   "cell_type": "code",
   "execution_count": 36,
   "metadata": {
    "deletable": false,
    "editable": false,
    "nbgrader": {
     "cell_type": "code",
     "checksum": "004e0b79231868e877b26988590835b3",
     "grade": true,
     "grade_id": "cell-25bdf92c81e34301",
     "locked": true,
     "points": 1,
     "schema_version": 3,
     "solution": false,
     "task": false
    },
    "tags": []
   },
   "outputs": [],
   "source": [
    "# Test Cell: do not edit or delete!\n",
    "mean = torch.zeros(1024, 10).requires_grad_(True)\n",
    "log_var = torch.zeros(1024, 10).requires_grad_(True)\n",
    "z = VariationalAutoEncoder.sample(mean, log_var)\n",
    "assert z.requires_grad, (\n",
    "    \"ex5: reparameterisation trick not (correctly) implemented (-1 point)\"\n",
    ")"
   ]
  },
  {
   "cell_type": "code",
   "execution_count": 37,
   "metadata": {
    "deletable": false,
    "editable": false,
    "nbgrader": {
     "cell_type": "code",
     "checksum": "90f203882f14e5ebf6d11e7c382a0255",
     "grade": true,
     "grade_id": "cell-39965169b6b1d413",
     "locked": true,
     "points": 1,
     "schema_version": 3,
     "solution": false,
     "task": false
    },
    "tags": []
   },
   "outputs": [],
   "source": [
    "# Test Cell: do not edit or delete!\n",
    "mean, log_var = torch.zeros(1, 10), torch.zeros(1, 10)\n",
    "reg = VariationalAutoEncoder.regularisation((mean, log_var))\n",
    "assert torch.allclose(reg, torch.zeros(1)), (\n",
    "    \"ex5: VAE regulariser for perfect parameters is not zero (-1 point)\"\n",
    ")\n",
    "\n",
    "reg = VariationalAutoEncoder.regularisation((mean + 1, log_var))\n",
    "assert torch.allclose(reg, 5 * torch.ones(1)), (\n",
    "    \"ex5: VAE regulariser for parameters with shifted mean is wrong: \"\n",
    "    f\"'{reg.item():.3f}' != 5.0 (-1 point)\"\n",
    ")"
   ]
  },
  {
   "cell_type": "code",
   "execution_count": 38,
   "metadata": {
    "deletable": false,
    "editable": false,
    "nbgrader": {
     "cell_type": "code",
     "checksum": "e0252f7040fb72d3ef516befd7f8aa08",
     "grade": true,
     "grade_id": "cell-741beeb4f3838d26",
     "locked": true,
     "points": 0.5,
     "schema_version": 3,
     "solution": false,
     "task": false
    },
    "tags": []
   },
   "outputs": [],
   "source": [
    "# Test Cell: do not edit or delete!\n",
    "vae = VariationalAutoEncoder(\n",
    "    encoder=nn.Sequential(\n",
    "        nn.Linear(784, 400), nn.ELU(), nn.Linear(400, 20)\n",
    "    ), decoder=nn.Sequential(\n",
    "        nn.ELU(), nn.Linear(10, 400), nn.ELU(), nn.Linear(400, 784)\n",
    "    )\n",
    ")\n",
    "\n",
    "x = torch.ones(1, 784)\n",
    "y, pars = vae(x)\n",
    "assert y.shape == x.shape, (\n",
    "    f\"ex5: reconstructed input has different shape: {tuple(y.shape)} (-0.5 points)\"\n",
    ")\n",
    "assert pars[0].shape == pars[1].shape, (\n",
    "    f\"ex5: latent distribution parameters have different shapes (-0.5 points)\"\n",
    ")"
   ]
  },
  {
   "cell_type": "code",
   "execution_count": 39,
   "metadata": {
    "deletable": false,
    "editable": false,
    "nbgrader": {
     "cell_type": "code",
     "checksum": "cf9e63ae63874283c7cf2bcfe88e1de1",
     "grade": true,
     "grade_id": "cell-fe1614a3ce86818e",
     "locked": true,
     "points": 0.5,
     "schema_version": 3,
     "solution": false,
     "task": false
    },
    "tags": []
   },
   "outputs": [],
   "source": [
    "# Test Cell: do not edit or delete!\n",
    "x = torch.ones(1, 784)\n",
    "y1, _ = vae(x)\n",
    "y2, _ = vae(x)\n",
    "assert not torch.allclose(y1, y2), (\n",
    "    f\"ex5: forward pass seems to be deterministic (-0.5 points)\"\n",
    ")"
   ]
  },
  {
   "cell_type": "markdown",
   "metadata": {},
   "source": [
    "### Exercise 6: Balance (1 point)\n",
    "\n",
    "In order to incorporate the regularisation loss in our trainer,\n",
    "I provided a (hacky) loss function wrapper: `RegularisedLoss`.\n",
    "This wrapper makes it possible to observe the original loss\n",
    "together with the regularisation loss.\n",
    "This will be useful because regularisation is always a balancing act.\n",
    "Therefore, the goal of this final exercise is to train the VAE\n",
    "in such a way that reconstruction and regularisation losses are balanced.\n",
    "\n",
    " > Train the variational auto-encoder with the regularised loss.\n",
    " > You can copy your reconstruction assumptions and loss function\n",
    " > from the auto-encoder exercise (they are not graded twice).\n",
    " > The key will be to find a reasonable value for the weight!"
   ]
  },
  {
   "cell_type": "code",
   "execution_count": 40,
   "metadata": {
    "deletable": false,
    "nbgrader": {
     "cell_type": "code",
     "checksum": "4fb9c21583475c6da14c6d1a4810a506",
     "grade": false,
     "grade_id": "cell-59b997323fdb4e3d",
     "locked": false,
     "schema_version": 3,
     "solution": true,
     "task": false
    },
    "tags": []
   },
   "outputs": [],
   "source": [
    "vae = VariationalAutoEncoder(\n",
    "    encoder=nn.Sequential(\n",
    "        nn.Flatten(), nn.Linear(784, 400),\n",
    "        nn.ELU(), nn.Linear(400, 40),\n",
    "    ),\n",
    "    decoder=nn.Sequential(\n",
    "        nn.ELU(), nn.Linear(20, 400),\n",
    "        nn.ELU(), nn.Linear(400, 784),\n",
    "        nn.Unflatten(1, (1, 28, 28)),\n",
    "    ),\n",
    "    assumption=None\n",
    ").to(device)\n",
    "regularised_loss = RegularisedLoss(None, vae.regularisation, weight=10e-3)\n",
    "trainer = AutoEncoderTrainer(\n",
    "    model=vae,\n",
    "    criterion=regularised_loss,  \n",
    "    optimiser=optim.Adamax(vae.parameters()),\n",
    ")\n",
    "\n",
    "# YOUR CODE HERE\n",
    "# raise NotImplementedError()\n"
   ]
  },
  {
   "cell_type": "code",
   "execution_count": 41,
   "metadata": {
    "deletable": false,
    "editable": false,
    "nbgrader": {
     "cell_type": "code",
     "checksum": "84d3858579821c0e05b9f56f6a18a4c1",
     "grade": true,
     "grade_id": "cell-78c32744cd767a94",
     "locked": true,
     "points": 1,
     "schema_version": 3,
     "solution": false,
     "task": false
    },
    "tags": []
   },
   "outputs": [],
   "source": [
    "# Test Cell: do not edit or delete!\n",
    "assert regularised_loss.weight > 0, (\n",
    "    \"ex6: zero weight corresponds to AE training (-1 point)\"\n",
    ")"
   ]
  },
  {
   "cell_type": "code",
   "execution_count": 42,
   "metadata": {
    "tags": [
     "skip-execution"
    ]
   },
   "outputs": [
    {
     "name": "stderr",
     "output_type": "stream",
     "text": [
      "Traceback (most recent call last):\n",
      "  File \"/home/ari/anaconda3/envs/dpi/lib/python3.8/multiprocessing/util.py\", line 300, in _run_finalizers\n",
      "    finalizer()\n",
      "  File \"/home/ari/anaconda3/envs/dpi/lib/python3.8/multiprocessing/util.py\", line 224, in __call__\n",
      "    res = self._callback(*self._args, **self._kwargs)\n",
      "  File \"/home/ari/anaconda3/envs/dpi/lib/python3.8/multiprocessing/util.py\", line 133, in _remove_temp_dir\n",
      "    rmtree(tempdir)\n",
      "  File \"/home/ari/anaconda3/envs/dpi/lib/python3.8/shutil.py\", line 722, in rmtree\n",
      "    onerror(os.rmdir, path, sys.exc_info())\n",
      "  File \"/home/ari/anaconda3/envs/dpi/lib/python3.8/shutil.py\", line 720, in rmtree\n",
      "    os.rmdir(path)\n",
      "OSError: [Errno 39] Directory not empty: '/tmp/pymp-jlazg_co'\n"
     ]
    },
    {
     "ename": "RuntimeError",
     "evalue": "Expected all tensors to be on the same device, but found at least two devices, cuda:0 and cpu!",
     "output_type": "error",
     "traceback": [
      "\u001b[0;31m---------------------------------------------------------------------------\u001b[0m",
      "\u001b[0;31mRuntimeError\u001b[0m                              Traceback (most recent call last)",
      "Cell \u001b[0;32mIn[42], line 3\u001b[0m\n\u001b[1;32m      1\u001b[0m \u001b[39m# sanity check\u001b[39;00m\n\u001b[1;32m      2\u001b[0m loader \u001b[39m=\u001b[39m DataLoader(data, batch_size\u001b[39m=\u001b[39m\u001b[39m256\u001b[39m, shuffle\u001b[39m=\u001b[39m\u001b[39mTrue\u001b[39;00m, num_workers\u001b[39m=\u001b[39m\u001b[39m4\u001b[39m)\n\u001b[0;32m----> 3\u001b[0m trainer\u001b[39m.\u001b[39;49mtrain(loader, num_epochs\u001b[39m=\u001b[39;49m\u001b[39m10\u001b[39;49m)\n",
      "Cell \u001b[0;32mIn[7], line 143\u001b[0m, in \u001b[0;36mAutoEncoderTrainer.train\u001b[0;34m(self, loader, num_epochs, vis_every)\u001b[0m\n\u001b[1;32m    140\u001b[0m ref_inputs, _ \u001b[39m=\u001b[39m \u001b[39mnext\u001b[39m(\u001b[39miter\u001b[39m(loader))\n\u001b[1;32m    142\u001b[0m \u001b[39m# evaluate random performance\u001b[39;00m\n\u001b[0;32m--> 143\u001b[0m errs \u001b[39m=\u001b[39m \u001b[39mself\u001b[39;49m\u001b[39m.\u001b[39;49mevaluate(loader, \u001b[39mself\u001b[39;49m\u001b[39m.\u001b[39;49mcriterion)\n\u001b[1;32m    144\u001b[0m \u001b[39mself\u001b[39m\u001b[39m.\u001b[39m_print_errs(\u001b[39m0\u001b[39m, errs)\n\u001b[1;32m    145\u001b[0m \u001b[39mself\u001b[39m\u001b[39m.\u001b[39m_display_result(ref_inputs)\n",
      "File \u001b[0;32m~/anaconda3/envs/dpi/lib/python3.8/site-packages/torch/utils/_contextlib.py:115\u001b[0m, in \u001b[0;36mcontext_decorator.<locals>.decorate_context\u001b[0;34m(*args, **kwargs)\u001b[0m\n\u001b[1;32m    112\u001b[0m \u001b[39m@functools\u001b[39m\u001b[39m.\u001b[39mwraps(func)\n\u001b[1;32m    113\u001b[0m \u001b[39mdef\u001b[39;00m \u001b[39mdecorate_context\u001b[39m(\u001b[39m*\u001b[39margs, \u001b[39m*\u001b[39m\u001b[39m*\u001b[39mkwargs):\n\u001b[1;32m    114\u001b[0m     \u001b[39mwith\u001b[39;00m ctx_factory():\n\u001b[0;32m--> 115\u001b[0m         \u001b[39mreturn\u001b[39;00m func(\u001b[39m*\u001b[39;49margs, \u001b[39m*\u001b[39;49m\u001b[39m*\u001b[39;49mkwargs)\n",
      "Cell \u001b[0;32mIn[7], line 52\u001b[0m, in \u001b[0;36mAutoEncoderTrainer.evaluate\u001b[0;34m(self, data, metric)\u001b[0m\n\u001b[1;32m     49\u001b[0m \u001b[39m@torch\u001b[39m\u001b[39m.\u001b[39mno_grad()\n\u001b[1;32m     50\u001b[0m \u001b[39mdef\u001b[39;00m \u001b[39mevaluate\u001b[39m(\u001b[39mself\u001b[39m, data: DataLoader, metric: \u001b[39mcallable\u001b[39m) \u001b[39m-\u001b[39m\u001b[39m>\u001b[39m \u001b[39mlist\u001b[39m:\n\u001b[1;32m     51\u001b[0m     \u001b[39mself\u001b[39m\u001b[39m.\u001b[39mmodel\u001b[39m.\u001b[39meval()\n\u001b[0;32m---> 52\u001b[0m     losses \u001b[39m=\u001b[39m [res\u001b[39m.\u001b[39mitem() \u001b[39mfor\u001b[39;00m res \u001b[39min\u001b[39;00m \u001b[39mself\u001b[39m\u001b[39m.\u001b[39m_forward(data, metric)]\n\u001b[1;32m     53\u001b[0m     \u001b[39m# print(len(losses))\u001b[39;00m\n\u001b[1;32m     54\u001b[0m     \u001b[39mreturn\u001b[39;00m losses\n",
      "Cell \u001b[0;32mIn[7], line 52\u001b[0m, in \u001b[0;36m<listcomp>\u001b[0;34m(.0)\u001b[0m\n\u001b[1;32m     49\u001b[0m \u001b[39m@torch\u001b[39m\u001b[39m.\u001b[39mno_grad()\n\u001b[1;32m     50\u001b[0m \u001b[39mdef\u001b[39;00m \u001b[39mevaluate\u001b[39m(\u001b[39mself\u001b[39m, data: DataLoader, metric: \u001b[39mcallable\u001b[39m) \u001b[39m-\u001b[39m\u001b[39m>\u001b[39m \u001b[39mlist\u001b[39m:\n\u001b[1;32m     51\u001b[0m     \u001b[39mself\u001b[39m\u001b[39m.\u001b[39mmodel\u001b[39m.\u001b[39meval()\n\u001b[0;32m---> 52\u001b[0m     losses \u001b[39m=\u001b[39m [res\u001b[39m.\u001b[39mitem() \u001b[39mfor\u001b[39;00m res \u001b[39min\u001b[39;00m \u001b[39mself\u001b[39m\u001b[39m.\u001b[39m_forward(data, metric)]\n\u001b[1;32m     53\u001b[0m     \u001b[39m# print(len(losses))\u001b[39;00m\n\u001b[1;32m     54\u001b[0m     \u001b[39mreturn\u001b[39;00m losses\n",
      "Cell \u001b[0;32mIn[7], line 43\u001b[0m, in \u001b[0;36mAutoEncoderTrainer._forward\u001b[0;34m(self, data, metric)\u001b[0m\n\u001b[1;32m     41\u001b[0m \u001b[39mfor\u001b[39;00m x, y \u001b[39min\u001b[39;00m data:\n\u001b[1;32m     42\u001b[0m     x, y \u001b[39m=\u001b[39m x\u001b[39m.\u001b[39mto(device), y\u001b[39m.\u001b[39mto(device)\n\u001b[0;32m---> 43\u001b[0m     logits \u001b[39m=\u001b[39m \u001b[39mself\u001b[39;49m\u001b[39m.\u001b[39;49mmodel(x)\n\u001b[1;32m     44\u001b[0m     \u001b[39m# print(logits.size()) \u001b[39;00m\n\u001b[1;32m     45\u001b[0m     res \u001b[39m=\u001b[39m metric(logits, y)\n",
      "File \u001b[0;32m~/anaconda3/envs/dpi/lib/python3.8/site-packages/torch/nn/modules/module.py:1501\u001b[0m, in \u001b[0;36mModule._call_impl\u001b[0;34m(self, *args, **kwargs)\u001b[0m\n\u001b[1;32m   1496\u001b[0m \u001b[39m# If we don't have any hooks, we want to skip the rest of the logic in\u001b[39;00m\n\u001b[1;32m   1497\u001b[0m \u001b[39m# this function, and just call forward.\u001b[39;00m\n\u001b[1;32m   1498\u001b[0m \u001b[39mif\u001b[39;00m \u001b[39mnot\u001b[39;00m (\u001b[39mself\u001b[39m\u001b[39m.\u001b[39m_backward_hooks \u001b[39mor\u001b[39;00m \u001b[39mself\u001b[39m\u001b[39m.\u001b[39m_backward_pre_hooks \u001b[39mor\u001b[39;00m \u001b[39mself\u001b[39m\u001b[39m.\u001b[39m_forward_hooks \u001b[39mor\u001b[39;00m \u001b[39mself\u001b[39m\u001b[39m.\u001b[39m_forward_pre_hooks\n\u001b[1;32m   1499\u001b[0m         \u001b[39mor\u001b[39;00m _global_backward_pre_hooks \u001b[39mor\u001b[39;00m _global_backward_hooks\n\u001b[1;32m   1500\u001b[0m         \u001b[39mor\u001b[39;00m _global_forward_hooks \u001b[39mor\u001b[39;00m _global_forward_pre_hooks):\n\u001b[0;32m-> 1501\u001b[0m     \u001b[39mreturn\u001b[39;00m forward_call(\u001b[39m*\u001b[39;49margs, \u001b[39m*\u001b[39;49m\u001b[39m*\u001b[39;49mkwargs)\n\u001b[1;32m   1502\u001b[0m \u001b[39m# Do not call functions when jit is used\u001b[39;00m\n\u001b[1;32m   1503\u001b[0m full_backward_hooks, non_full_backward_hooks \u001b[39m=\u001b[39m [], []\n",
      "Cell \u001b[0;32mIn[34], line 79\u001b[0m, in \u001b[0;36mVariationalAutoEncoder.forward\u001b[0;34m(self, x)\u001b[0m\n\u001b[1;32m     77\u001b[0m x \u001b[39m=\u001b[39m \u001b[39mself\u001b[39m\u001b[39m.\u001b[39mencoder(x)\n\u001b[1;32m     78\u001b[0m mean, log_var \u001b[39m=\u001b[39m torch\u001b[39m.\u001b[39mchunk(x, \u001b[39m2\u001b[39m, dim \u001b[39m=\u001b[39m \u001b[39m1\u001b[39m) \u001b[39m# mean and log_var are concatenated in the encoder\u001b[39;00m\n\u001b[0;32m---> 79\u001b[0m z \u001b[39m=\u001b[39m \u001b[39mself\u001b[39;49m\u001b[39m.\u001b[39;49msample(mean, log_var)\n\u001b[1;32m     80\u001b[0m y \u001b[39m=\u001b[39m \u001b[39mself\u001b[39m\u001b[39m.\u001b[39mdecoder(z)\n\u001b[1;32m     81\u001b[0m \u001b[39mreturn\u001b[39;00m y, (mean, log_var)\n",
      "Cell \u001b[0;32mIn[34], line 25\u001b[0m, in \u001b[0;36mVariationalAutoEncoder.sample\u001b[0;34m(mean, log_var)\u001b[0m\n\u001b[1;32m     23\u001b[0m std \u001b[39m=\u001b[39m torch\u001b[39m.\u001b[39msqrt(torch\u001b[39m.\u001b[39mexp(log_var))\n\u001b[1;32m     24\u001b[0m epsilon \u001b[39m=\u001b[39m torch\u001b[39m.\u001b[39mnormal(\u001b[39m0\u001b[39m,\u001b[39m1\u001b[39m, size \u001b[39m=\u001b[39m mean\u001b[39m.\u001b[39mshape)\u001b[39m# Noise which is standard gaussian distribution\u001b[39;00m\n\u001b[0;32m---> 25\u001b[0m z \u001b[39m=\u001b[39m mean \u001b[39m+\u001b[39m std\u001b[39m*\u001b[39;49mepsilon \u001b[39m#(Sampled new distribution).\u001b[39;00m\n\u001b[1;32m     26\u001b[0m \u001b[39mreturn\u001b[39;00m z\n",
      "\u001b[0;31mRuntimeError\u001b[0m: Expected all tensors to be on the same device, but found at least two devices, cuda:0 and cpu!"
     ]
    }
   ],
   "source": [
    "# sanity check\n",
    "loader = DataLoader(data, batch_size=256, shuffle=True, num_workers=4)\n",
    "trainer.train(loader, num_epochs=10)"
   ]
  },
  {
   "cell_type": "code",
   "execution_count": 43,
   "metadata": {},
   "outputs": [
    {
     "ename": "RuntimeError",
     "evalue": "Expected all tensors to be on the same device, but found at least two devices, cuda:0 and cpu!",
     "output_type": "error",
     "traceback": [
      "\u001b[0;31m---------------------------------------------------------------------------\u001b[0m",
      "\u001b[0;31mRuntimeError\u001b[0m                              Traceback (most recent call last)",
      "Cell \u001b[0;32mIn[43], line 2\u001b[0m\n\u001b[1;32m      1\u001b[0m \u001b[39m# sanity check (image generation)\u001b[39;00m\n\u001b[0;32m----> 2\u001b[0m out1 \u001b[39m=\u001b[39m data_to_image(\u001b[39m*\u001b[39mvae\u001b[39m.\u001b[39;49mgenerate(torch\u001b[39m.\u001b[39;49mzeros(\u001b[39m10\u001b[39;49m, \u001b[39m20\u001b[39;49m)))\n\u001b[1;32m      3\u001b[0m out2 \u001b[39m=\u001b[39m data_to_image(\u001b[39m*\u001b[39mvae\u001b[39m.\u001b[39mgenerate(torch\u001b[39m.\u001b[39mones(\u001b[39m10\u001b[39m, \u001b[39m20\u001b[39m)))\n\u001b[1;32m      4\u001b[0m out3 \u001b[39m=\u001b[39m data_to_image(\u001b[39m*\u001b[39mvae\u001b[39m.\u001b[39mgenerate(torch\u001b[39m.\u001b[39mrandn(\u001b[39m10\u001b[39m, \u001b[39m20\u001b[39m)))\n",
      "File \u001b[0;32m~/anaconda3/envs/dpi/lib/python3.8/site-packages/torch/utils/_contextlib.py:115\u001b[0m, in \u001b[0;36mcontext_decorator.<locals>.decorate_context\u001b[0;34m(*args, **kwargs)\u001b[0m\n\u001b[1;32m    112\u001b[0m \u001b[39m@functools\u001b[39m\u001b[39m.\u001b[39mwraps(func)\n\u001b[1;32m    113\u001b[0m \u001b[39mdef\u001b[39;00m \u001b[39mdecorate_context\u001b[39m(\u001b[39m*\u001b[39margs, \u001b[39m*\u001b[39m\u001b[39m*\u001b[39mkwargs):\n\u001b[1;32m    114\u001b[0m     \u001b[39mwith\u001b[39;00m ctx_factory():\n\u001b[0;32m--> 115\u001b[0m         \u001b[39mreturn\u001b[39;00m func(\u001b[39m*\u001b[39;49margs, \u001b[39m*\u001b[39;49m\u001b[39m*\u001b[39;49mkwargs)\n",
      "Cell \u001b[0;32mIn[34], line 110\u001b[0m, in \u001b[0;36mVariationalAutoEncoder.generate\u001b[0;34m(self, mean, log_var, y_range)\u001b[0m\n\u001b[1;32m    108\u001b[0m mean \u001b[39m=\u001b[39m torch\u001b[39m.\u001b[39mas_tensor(mean)\u001b[39m.\u001b[39mto(device)\n\u001b[1;32m    109\u001b[0m log_var \u001b[39m=\u001b[39m torch\u001b[39m.\u001b[39mas_tensor(log_var)\u001b[39m.\u001b[39mto(device)\n\u001b[0;32m--> 110\u001b[0m z \u001b[39m=\u001b[39m \u001b[39mself\u001b[39;49m\u001b[39m.\u001b[39;49msample(mean, log_var)\n\u001b[1;32m    111\u001b[0m logits \u001b[39m=\u001b[39m \u001b[39mself\u001b[39m\u001b[39m.\u001b[39mdecoder(z)\n\u001b[1;32m    112\u001b[0m \u001b[39mreturn\u001b[39;00m AutoEncoder\u001b[39m.\u001b[39mto_intensities(\u001b[39mself\u001b[39m, logits, y_range)\n",
      "Cell \u001b[0;32mIn[34], line 25\u001b[0m, in \u001b[0;36mVariationalAutoEncoder.sample\u001b[0;34m(mean, log_var)\u001b[0m\n\u001b[1;32m     23\u001b[0m std \u001b[39m=\u001b[39m torch\u001b[39m.\u001b[39msqrt(torch\u001b[39m.\u001b[39mexp(log_var))\n\u001b[1;32m     24\u001b[0m epsilon \u001b[39m=\u001b[39m torch\u001b[39m.\u001b[39mnormal(\u001b[39m0\u001b[39m,\u001b[39m1\u001b[39m, size \u001b[39m=\u001b[39m mean\u001b[39m.\u001b[39mshape)\u001b[39m# Noise which is standard gaussian distribution\u001b[39;00m\n\u001b[0;32m---> 25\u001b[0m z \u001b[39m=\u001b[39m mean \u001b[39m+\u001b[39m std\u001b[39m*\u001b[39;49mepsilon \u001b[39m#(Sampled new distribution).\u001b[39;00m\n\u001b[1;32m     26\u001b[0m \u001b[39mreturn\u001b[39;00m z\n",
      "\u001b[0;31mRuntimeError\u001b[0m: Expected all tensors to be on the same device, but found at least two devices, cuda:0 and cpu!"
     ]
    }
   ],
   "source": [
    "# sanity check (image generation)\n",
    "out1 = data_to_image(*vae.generate(torch.zeros(10, 20)))\n",
    "out2 = data_to_image(*vae.generate(torch.ones(10, 20)))\n",
    "out3 = data_to_image(*vae.generate(torch.randn(10, 20)))\n",
    "display(out1, out2, out3, metadata={'width': '100%'})"
   ]
  }
 ],
 "metadata": {
  "kernelspec": {
   "display_name": "Python 3 (ipykernel)",
   "language": "python",
   "name": "python3"
  },
  "language_info": {
   "codemirror_mode": {
    "name": "ipython",
    "version": 3
   },
   "file_extension": ".py",
   "mimetype": "text/x-python",
   "name": "python",
   "nbconvert_exporter": "python",
   "pygments_lexer": "ipython3",
   "version": "3.8.16"
  }
 },
 "nbformat": 4,
 "nbformat_minor": 4
}
